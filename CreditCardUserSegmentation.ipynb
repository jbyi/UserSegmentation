{
 "cells": [
  {
   "cell_type": "code",
   "execution_count": 1,
   "metadata": {},
   "outputs": [],
   "source": [
    "import pandas as pd"
   ]
  },
  {
   "cell_type": "markdown",
   "metadata": {},
   "source": [
    "# Exploratory Data Analysis"
   ]
  },
  {
   "cell_type": "code",
   "execution_count": 2,
   "metadata": {},
   "outputs": [],
   "source": [
    "df = pd.read_csv(\"cc_info.csv\")"
   ]
  },
  {
   "cell_type": "code",
   "execution_count": 3,
   "metadata": {},
   "outputs": [
    {
     "data": {
      "text/html": [
       "<div>\n",
       "<style scoped>\n",
       "    .dataframe tbody tr th:only-of-type {\n",
       "        vertical-align: middle;\n",
       "    }\n",
       "\n",
       "    .dataframe tbody tr th {\n",
       "        vertical-align: top;\n",
       "    }\n",
       "\n",
       "    .dataframe thead th {\n",
       "        text-align: right;\n",
       "    }\n",
       "</style>\n",
       "<table border=\"1\" class=\"dataframe\">\n",
       "  <thead>\n",
       "    <tr style=\"text-align: right;\">\n",
       "      <th></th>\n",
       "      <th>CUST_ID</th>\n",
       "      <th>BALANCE</th>\n",
       "      <th>BALANCE_FREQUENCY</th>\n",
       "      <th>PURCHASES</th>\n",
       "      <th>ONEOFF_PURCHASES</th>\n",
       "      <th>INSTALLMENTS_PURCHASES</th>\n",
       "      <th>CASH_ADVANCE</th>\n",
       "      <th>PURCHASES_FREQUENCY</th>\n",
       "      <th>ONEOFF_PURCHASES_FREQUENCY</th>\n",
       "      <th>PURCHASES_INSTALLMENTS_FREQUENCY</th>\n",
       "      <th>CASH_ADVANCE_FREQUENCY</th>\n",
       "      <th>CASH_ADVANCE_TRX</th>\n",
       "      <th>PURCHASES_TRX</th>\n",
       "      <th>CREDIT_LIMIT</th>\n",
       "      <th>PAYMENTS</th>\n",
       "      <th>MINIMUM_PAYMENTS</th>\n",
       "      <th>PRC_FULL_PAYMENT</th>\n",
       "      <th>TENURE</th>\n",
       "    </tr>\n",
       "  </thead>\n",
       "  <tbody>\n",
       "    <tr>\n",
       "      <th>0</th>\n",
       "      <td>C10001</td>\n",
       "      <td>40.900749</td>\n",
       "      <td>0.818182</td>\n",
       "      <td>95.40</td>\n",
       "      <td>0.00</td>\n",
       "      <td>95.40</td>\n",
       "      <td>0.000000</td>\n",
       "      <td>0.166667</td>\n",
       "      <td>0.000000</td>\n",
       "      <td>0.083333</td>\n",
       "      <td>0.000000</td>\n",
       "      <td>0</td>\n",
       "      <td>2</td>\n",
       "      <td>1000.0</td>\n",
       "      <td>201.802084</td>\n",
       "      <td>139.509787</td>\n",
       "      <td>0.000000</td>\n",
       "      <td>12</td>\n",
       "    </tr>\n",
       "    <tr>\n",
       "      <th>1</th>\n",
       "      <td>C10002</td>\n",
       "      <td>3202.467416</td>\n",
       "      <td>0.909091</td>\n",
       "      <td>0.00</td>\n",
       "      <td>0.00</td>\n",
       "      <td>0.00</td>\n",
       "      <td>6442.945483</td>\n",
       "      <td>0.000000</td>\n",
       "      <td>0.000000</td>\n",
       "      <td>0.000000</td>\n",
       "      <td>0.250000</td>\n",
       "      <td>4</td>\n",
       "      <td>0</td>\n",
       "      <td>7000.0</td>\n",
       "      <td>4103.032597</td>\n",
       "      <td>1072.340217</td>\n",
       "      <td>0.222222</td>\n",
       "      <td>12</td>\n",
       "    </tr>\n",
       "    <tr>\n",
       "      <th>2</th>\n",
       "      <td>C10003</td>\n",
       "      <td>2495.148862</td>\n",
       "      <td>1.000000</td>\n",
       "      <td>773.17</td>\n",
       "      <td>773.17</td>\n",
       "      <td>0.00</td>\n",
       "      <td>0.000000</td>\n",
       "      <td>1.000000</td>\n",
       "      <td>1.000000</td>\n",
       "      <td>0.000000</td>\n",
       "      <td>0.000000</td>\n",
       "      <td>0</td>\n",
       "      <td>12</td>\n",
       "      <td>7500.0</td>\n",
       "      <td>622.066742</td>\n",
       "      <td>627.284787</td>\n",
       "      <td>0.000000</td>\n",
       "      <td>12</td>\n",
       "    </tr>\n",
       "    <tr>\n",
       "      <th>3</th>\n",
       "      <td>C10004</td>\n",
       "      <td>1666.670542</td>\n",
       "      <td>0.636364</td>\n",
       "      <td>1499.00</td>\n",
       "      <td>1499.00</td>\n",
       "      <td>0.00</td>\n",
       "      <td>205.788017</td>\n",
       "      <td>0.083333</td>\n",
       "      <td>0.083333</td>\n",
       "      <td>0.000000</td>\n",
       "      <td>0.083333</td>\n",
       "      <td>1</td>\n",
       "      <td>1</td>\n",
       "      <td>7500.0</td>\n",
       "      <td>0.000000</td>\n",
       "      <td>NaN</td>\n",
       "      <td>0.000000</td>\n",
       "      <td>12</td>\n",
       "    </tr>\n",
       "    <tr>\n",
       "      <th>4</th>\n",
       "      <td>C10005</td>\n",
       "      <td>817.714335</td>\n",
       "      <td>1.000000</td>\n",
       "      <td>16.00</td>\n",
       "      <td>16.00</td>\n",
       "      <td>0.00</td>\n",
       "      <td>0.000000</td>\n",
       "      <td>0.083333</td>\n",
       "      <td>0.083333</td>\n",
       "      <td>0.000000</td>\n",
       "      <td>0.000000</td>\n",
       "      <td>0</td>\n",
       "      <td>1</td>\n",
       "      <td>1200.0</td>\n",
       "      <td>678.334763</td>\n",
       "      <td>244.791237</td>\n",
       "      <td>0.000000</td>\n",
       "      <td>12</td>\n",
       "    </tr>\n",
       "    <tr>\n",
       "      <th>...</th>\n",
       "      <td>...</td>\n",
       "      <td>...</td>\n",
       "      <td>...</td>\n",
       "      <td>...</td>\n",
       "      <td>...</td>\n",
       "      <td>...</td>\n",
       "      <td>...</td>\n",
       "      <td>...</td>\n",
       "      <td>...</td>\n",
       "      <td>...</td>\n",
       "      <td>...</td>\n",
       "      <td>...</td>\n",
       "      <td>...</td>\n",
       "      <td>...</td>\n",
       "      <td>...</td>\n",
       "      <td>...</td>\n",
       "      <td>...</td>\n",
       "      <td>...</td>\n",
       "    </tr>\n",
       "    <tr>\n",
       "      <th>8945</th>\n",
       "      <td>C19186</td>\n",
       "      <td>28.493517</td>\n",
       "      <td>1.000000</td>\n",
       "      <td>291.12</td>\n",
       "      <td>0.00</td>\n",
       "      <td>291.12</td>\n",
       "      <td>0.000000</td>\n",
       "      <td>1.000000</td>\n",
       "      <td>0.000000</td>\n",
       "      <td>0.833333</td>\n",
       "      <td>0.000000</td>\n",
       "      <td>0</td>\n",
       "      <td>6</td>\n",
       "      <td>1000.0</td>\n",
       "      <td>325.594462</td>\n",
       "      <td>48.886365</td>\n",
       "      <td>0.500000</td>\n",
       "      <td>6</td>\n",
       "    </tr>\n",
       "    <tr>\n",
       "      <th>8946</th>\n",
       "      <td>C19187</td>\n",
       "      <td>19.183215</td>\n",
       "      <td>1.000000</td>\n",
       "      <td>300.00</td>\n",
       "      <td>0.00</td>\n",
       "      <td>300.00</td>\n",
       "      <td>0.000000</td>\n",
       "      <td>1.000000</td>\n",
       "      <td>0.000000</td>\n",
       "      <td>0.833333</td>\n",
       "      <td>0.000000</td>\n",
       "      <td>0</td>\n",
       "      <td>6</td>\n",
       "      <td>1000.0</td>\n",
       "      <td>275.861322</td>\n",
       "      <td>NaN</td>\n",
       "      <td>0.000000</td>\n",
       "      <td>6</td>\n",
       "    </tr>\n",
       "    <tr>\n",
       "      <th>8947</th>\n",
       "      <td>C19188</td>\n",
       "      <td>23.398673</td>\n",
       "      <td>0.833333</td>\n",
       "      <td>144.40</td>\n",
       "      <td>0.00</td>\n",
       "      <td>144.40</td>\n",
       "      <td>0.000000</td>\n",
       "      <td>0.833333</td>\n",
       "      <td>0.000000</td>\n",
       "      <td>0.666667</td>\n",
       "      <td>0.000000</td>\n",
       "      <td>0</td>\n",
       "      <td>5</td>\n",
       "      <td>1000.0</td>\n",
       "      <td>81.270775</td>\n",
       "      <td>82.418369</td>\n",
       "      <td>0.250000</td>\n",
       "      <td>6</td>\n",
       "    </tr>\n",
       "    <tr>\n",
       "      <th>8948</th>\n",
       "      <td>C19189</td>\n",
       "      <td>13.457564</td>\n",
       "      <td>0.833333</td>\n",
       "      <td>0.00</td>\n",
       "      <td>0.00</td>\n",
       "      <td>0.00</td>\n",
       "      <td>36.558778</td>\n",
       "      <td>0.000000</td>\n",
       "      <td>0.000000</td>\n",
       "      <td>0.000000</td>\n",
       "      <td>0.166667</td>\n",
       "      <td>2</td>\n",
       "      <td>0</td>\n",
       "      <td>500.0</td>\n",
       "      <td>52.549959</td>\n",
       "      <td>55.755628</td>\n",
       "      <td>0.250000</td>\n",
       "      <td>6</td>\n",
       "    </tr>\n",
       "    <tr>\n",
       "      <th>8949</th>\n",
       "      <td>C19190</td>\n",
       "      <td>372.708075</td>\n",
       "      <td>0.666667</td>\n",
       "      <td>1093.25</td>\n",
       "      <td>1093.25</td>\n",
       "      <td>0.00</td>\n",
       "      <td>127.040008</td>\n",
       "      <td>0.666667</td>\n",
       "      <td>0.666667</td>\n",
       "      <td>0.000000</td>\n",
       "      <td>0.333333</td>\n",
       "      <td>2</td>\n",
       "      <td>23</td>\n",
       "      <td>1200.0</td>\n",
       "      <td>63.165404</td>\n",
       "      <td>88.288956</td>\n",
       "      <td>0.000000</td>\n",
       "      <td>6</td>\n",
       "    </tr>\n",
       "  </tbody>\n",
       "</table>\n",
       "<p>8950 rows × 18 columns</p>\n",
       "</div>"
      ],
      "text/plain": [
       "     CUST_ID      BALANCE  BALANCE_FREQUENCY  PURCHASES  ONEOFF_PURCHASES  \\\n",
       "0     C10001    40.900749           0.818182      95.40              0.00   \n",
       "1     C10002  3202.467416           0.909091       0.00              0.00   \n",
       "2     C10003  2495.148862           1.000000     773.17            773.17   \n",
       "3     C10004  1666.670542           0.636364    1499.00           1499.00   \n",
       "4     C10005   817.714335           1.000000      16.00             16.00   \n",
       "...      ...          ...                ...        ...               ...   \n",
       "8945  C19186    28.493517           1.000000     291.12              0.00   \n",
       "8946  C19187    19.183215           1.000000     300.00              0.00   \n",
       "8947  C19188    23.398673           0.833333     144.40              0.00   \n",
       "8948  C19189    13.457564           0.833333       0.00              0.00   \n",
       "8949  C19190   372.708075           0.666667    1093.25           1093.25   \n",
       "\n",
       "      INSTALLMENTS_PURCHASES  CASH_ADVANCE  PURCHASES_FREQUENCY  \\\n",
       "0                      95.40      0.000000             0.166667   \n",
       "1                       0.00   6442.945483             0.000000   \n",
       "2                       0.00      0.000000             1.000000   \n",
       "3                       0.00    205.788017             0.083333   \n",
       "4                       0.00      0.000000             0.083333   \n",
       "...                      ...           ...                  ...   \n",
       "8945                  291.12      0.000000             1.000000   \n",
       "8946                  300.00      0.000000             1.000000   \n",
       "8947                  144.40      0.000000             0.833333   \n",
       "8948                    0.00     36.558778             0.000000   \n",
       "8949                    0.00    127.040008             0.666667   \n",
       "\n",
       "      ONEOFF_PURCHASES_FREQUENCY  PURCHASES_INSTALLMENTS_FREQUENCY  \\\n",
       "0                       0.000000                          0.083333   \n",
       "1                       0.000000                          0.000000   \n",
       "2                       1.000000                          0.000000   \n",
       "3                       0.083333                          0.000000   \n",
       "4                       0.083333                          0.000000   \n",
       "...                          ...                               ...   \n",
       "8945                    0.000000                          0.833333   \n",
       "8946                    0.000000                          0.833333   \n",
       "8947                    0.000000                          0.666667   \n",
       "8948                    0.000000                          0.000000   \n",
       "8949                    0.666667                          0.000000   \n",
       "\n",
       "      CASH_ADVANCE_FREQUENCY  CASH_ADVANCE_TRX  PURCHASES_TRX  CREDIT_LIMIT  \\\n",
       "0                   0.000000                 0              2        1000.0   \n",
       "1                   0.250000                 4              0        7000.0   \n",
       "2                   0.000000                 0             12        7500.0   \n",
       "3                   0.083333                 1              1        7500.0   \n",
       "4                   0.000000                 0              1        1200.0   \n",
       "...                      ...               ...            ...           ...   \n",
       "8945                0.000000                 0              6        1000.0   \n",
       "8946                0.000000                 0              6        1000.0   \n",
       "8947                0.000000                 0              5        1000.0   \n",
       "8948                0.166667                 2              0         500.0   \n",
       "8949                0.333333                 2             23        1200.0   \n",
       "\n",
       "         PAYMENTS  MINIMUM_PAYMENTS  PRC_FULL_PAYMENT  TENURE  \n",
       "0      201.802084        139.509787          0.000000      12  \n",
       "1     4103.032597       1072.340217          0.222222      12  \n",
       "2      622.066742        627.284787          0.000000      12  \n",
       "3        0.000000               NaN          0.000000      12  \n",
       "4      678.334763        244.791237          0.000000      12  \n",
       "...           ...               ...               ...     ...  \n",
       "8945   325.594462         48.886365          0.500000       6  \n",
       "8946   275.861322               NaN          0.000000       6  \n",
       "8947    81.270775         82.418369          0.250000       6  \n",
       "8948    52.549959         55.755628          0.250000       6  \n",
       "8949    63.165404         88.288956          0.000000       6  \n",
       "\n",
       "[8950 rows x 18 columns]"
      ]
     },
     "execution_count": 3,
     "metadata": {},
     "output_type": "execute_result"
    }
   ],
   "source": [
    "df"
   ]
  },
  {
   "cell_type": "code",
   "execution_count": 4,
   "metadata": {},
   "outputs": [
    {
     "data": {
      "text/plain": [
       "CUST_ID                               0\n",
       "BALANCE                               0\n",
       "BALANCE_FREQUENCY                     0\n",
       "PURCHASES                             0\n",
       "ONEOFF_PURCHASES                      0\n",
       "INSTALLMENTS_PURCHASES                0\n",
       "CASH_ADVANCE                          0\n",
       "PURCHASES_FREQUENCY                   0\n",
       "ONEOFF_PURCHASES_FREQUENCY            0\n",
       "PURCHASES_INSTALLMENTS_FREQUENCY      0\n",
       "CASH_ADVANCE_FREQUENCY                0\n",
       "CASH_ADVANCE_TRX                      0\n",
       "PURCHASES_TRX                         0\n",
       "CREDIT_LIMIT                          1\n",
       "PAYMENTS                              0\n",
       "MINIMUM_PAYMENTS                    313\n",
       "PRC_FULL_PAYMENT                      0\n",
       "TENURE                                0\n",
       "dtype: int64"
      ]
     },
     "execution_count": 4,
     "metadata": {},
     "output_type": "execute_result"
    }
   ],
   "source": [
    "df.isnull().sum()"
   ]
  },
  {
   "cell_type": "markdown",
   "metadata": {},
   "source": [
    "Two columns include null samples, dropping them"
   ]
  },
  {
   "cell_type": "code",
   "execution_count": 13,
   "metadata": {
    "scrolled": false
   },
   "outputs": [
    {
     "data": {
      "text/html": [
       "<div>\n",
       "<style scoped>\n",
       "    .dataframe tbody tr th:only-of-type {\n",
       "        vertical-align: middle;\n",
       "    }\n",
       "\n",
       "    .dataframe tbody tr th {\n",
       "        vertical-align: top;\n",
       "    }\n",
       "\n",
       "    .dataframe thead th {\n",
       "        text-align: right;\n",
       "    }\n",
       "</style>\n",
       "<table border=\"1\" class=\"dataframe\">\n",
       "  <thead>\n",
       "    <tr style=\"text-align: right;\">\n",
       "      <th></th>\n",
       "      <th>CUST_ID</th>\n",
       "      <th>BALANCE</th>\n",
       "      <th>BALANCE_FREQUENCY</th>\n",
       "      <th>PURCHASES</th>\n",
       "      <th>ONEOFF_PURCHASES</th>\n",
       "      <th>INSTALLMENTS_PURCHASES</th>\n",
       "      <th>CASH_ADVANCE</th>\n",
       "      <th>PURCHASES_FREQUENCY</th>\n",
       "      <th>ONEOFF_PURCHASES_FREQUENCY</th>\n",
       "      <th>PURCHASES_INSTALLMENTS_FREQUENCY</th>\n",
       "      <th>CASH_ADVANCE_FREQUENCY</th>\n",
       "      <th>CASH_ADVANCE_TRX</th>\n",
       "      <th>PURCHASES_TRX</th>\n",
       "      <th>CREDIT_LIMIT</th>\n",
       "      <th>PAYMENTS</th>\n",
       "      <th>MINIMUM_PAYMENTS</th>\n",
       "      <th>PRC_FULL_PAYMENT</th>\n",
       "      <th>TENURE</th>\n",
       "    </tr>\n",
       "  </thead>\n",
       "  <tbody>\n",
       "    <tr>\n",
       "      <th>3</th>\n",
       "      <td>C10004</td>\n",
       "      <td>1666.670542</td>\n",
       "      <td>0.636364</td>\n",
       "      <td>1499.00</td>\n",
       "      <td>1499.00</td>\n",
       "      <td>0.0</td>\n",
       "      <td>205.788017</td>\n",
       "      <td>0.083333</td>\n",
       "      <td>0.083333</td>\n",
       "      <td>0.000000</td>\n",
       "      <td>0.083333</td>\n",
       "      <td>1</td>\n",
       "      <td>1</td>\n",
       "      <td>7500.0</td>\n",
       "      <td>0.000000</td>\n",
       "      <td>NaN</td>\n",
       "      <td>0.0</td>\n",
       "      <td>12</td>\n",
       "    </tr>\n",
       "    <tr>\n",
       "      <th>45</th>\n",
       "      <td>C10047</td>\n",
       "      <td>2242.311686</td>\n",
       "      <td>1.000000</td>\n",
       "      <td>437.00</td>\n",
       "      <td>97.00</td>\n",
       "      <td>340.0</td>\n",
       "      <td>184.648692</td>\n",
       "      <td>0.333333</td>\n",
       "      <td>0.083333</td>\n",
       "      <td>0.333333</td>\n",
       "      <td>0.166667</td>\n",
       "      <td>2</td>\n",
       "      <td>5</td>\n",
       "      <td>2400.0</td>\n",
       "      <td>0.000000</td>\n",
       "      <td>NaN</td>\n",
       "      <td>0.0</td>\n",
       "      <td>12</td>\n",
       "    </tr>\n",
       "    <tr>\n",
       "      <th>47</th>\n",
       "      <td>C10049</td>\n",
       "      <td>3910.111237</td>\n",
       "      <td>1.000000</td>\n",
       "      <td>0.00</td>\n",
       "      <td>0.00</td>\n",
       "      <td>0.0</td>\n",
       "      <td>1980.873201</td>\n",
       "      <td>0.000000</td>\n",
       "      <td>0.000000</td>\n",
       "      <td>0.000000</td>\n",
       "      <td>0.500000</td>\n",
       "      <td>7</td>\n",
       "      <td>0</td>\n",
       "      <td>4200.0</td>\n",
       "      <td>0.000000</td>\n",
       "      <td>NaN</td>\n",
       "      <td>0.0</td>\n",
       "      <td>12</td>\n",
       "    </tr>\n",
       "    <tr>\n",
       "      <th>54</th>\n",
       "      <td>C10056</td>\n",
       "      <td>6.660517</td>\n",
       "      <td>0.636364</td>\n",
       "      <td>310.00</td>\n",
       "      <td>0.00</td>\n",
       "      <td>310.0</td>\n",
       "      <td>0.000000</td>\n",
       "      <td>0.666667</td>\n",
       "      <td>0.000000</td>\n",
       "      <td>0.666667</td>\n",
       "      <td>0.000000</td>\n",
       "      <td>0</td>\n",
       "      <td>8</td>\n",
       "      <td>1000.0</td>\n",
       "      <td>417.016763</td>\n",
       "      <td>NaN</td>\n",
       "      <td>0.0</td>\n",
       "      <td>12</td>\n",
       "    </tr>\n",
       "    <tr>\n",
       "      <th>55</th>\n",
       "      <td>C10057</td>\n",
       "      <td>1311.995984</td>\n",
       "      <td>1.000000</td>\n",
       "      <td>1283.90</td>\n",
       "      <td>1283.90</td>\n",
       "      <td>0.0</td>\n",
       "      <td>0.000000</td>\n",
       "      <td>0.250000</td>\n",
       "      <td>0.250000</td>\n",
       "      <td>0.000000</td>\n",
       "      <td>0.000000</td>\n",
       "      <td>0</td>\n",
       "      <td>6</td>\n",
       "      <td>6000.0</td>\n",
       "      <td>0.000000</td>\n",
       "      <td>NaN</td>\n",
       "      <td>0.0</td>\n",
       "      <td>12</td>\n",
       "    </tr>\n",
       "    <tr>\n",
       "      <th>...</th>\n",
       "      <td>...</td>\n",
       "      <td>...</td>\n",
       "      <td>...</td>\n",
       "      <td>...</td>\n",
       "      <td>...</td>\n",
       "      <td>...</td>\n",
       "      <td>...</td>\n",
       "      <td>...</td>\n",
       "      <td>...</td>\n",
       "      <td>...</td>\n",
       "      <td>...</td>\n",
       "      <td>...</td>\n",
       "      <td>...</td>\n",
       "      <td>...</td>\n",
       "      <td>...</td>\n",
       "      <td>...</td>\n",
       "      <td>...</td>\n",
       "      <td>...</td>\n",
       "    </tr>\n",
       "    <tr>\n",
       "      <th>8919</th>\n",
       "      <td>C19160</td>\n",
       "      <td>14.524779</td>\n",
       "      <td>0.333333</td>\n",
       "      <td>152.00</td>\n",
       "      <td>152.00</td>\n",
       "      <td>0.0</td>\n",
       "      <td>0.000000</td>\n",
       "      <td>0.333333</td>\n",
       "      <td>0.333333</td>\n",
       "      <td>0.000000</td>\n",
       "      <td>0.000000</td>\n",
       "      <td>0</td>\n",
       "      <td>2</td>\n",
       "      <td>1500.0</td>\n",
       "      <td>0.000000</td>\n",
       "      <td>NaN</td>\n",
       "      <td>0.0</td>\n",
       "      <td>6</td>\n",
       "    </tr>\n",
       "    <tr>\n",
       "      <th>8929</th>\n",
       "      <td>C19170</td>\n",
       "      <td>371.527312</td>\n",
       "      <td>0.333333</td>\n",
       "      <td>0.00</td>\n",
       "      <td>0.00</td>\n",
       "      <td>0.0</td>\n",
       "      <td>1465.407927</td>\n",
       "      <td>0.000000</td>\n",
       "      <td>0.000000</td>\n",
       "      <td>0.000000</td>\n",
       "      <td>0.166667</td>\n",
       "      <td>5</td>\n",
       "      <td>0</td>\n",
       "      <td>1500.0</td>\n",
       "      <td>0.000000</td>\n",
       "      <td>NaN</td>\n",
       "      <td>0.0</td>\n",
       "      <td>6</td>\n",
       "    </tr>\n",
       "    <tr>\n",
       "      <th>8935</th>\n",
       "      <td>C19176</td>\n",
       "      <td>183.817004</td>\n",
       "      <td>1.000000</td>\n",
       "      <td>465.90</td>\n",
       "      <td>0.00</td>\n",
       "      <td>465.9</td>\n",
       "      <td>0.000000</td>\n",
       "      <td>1.000000</td>\n",
       "      <td>0.000000</td>\n",
       "      <td>0.833333</td>\n",
       "      <td>0.000000</td>\n",
       "      <td>0</td>\n",
       "      <td>6</td>\n",
       "      <td>1500.0</td>\n",
       "      <td>0.000000</td>\n",
       "      <td>NaN</td>\n",
       "      <td>0.0</td>\n",
       "      <td>6</td>\n",
       "    </tr>\n",
       "    <tr>\n",
       "      <th>8944</th>\n",
       "      <td>C19185</td>\n",
       "      <td>193.571722</td>\n",
       "      <td>0.833333</td>\n",
       "      <td>1012.73</td>\n",
       "      <td>1012.73</td>\n",
       "      <td>0.0</td>\n",
       "      <td>0.000000</td>\n",
       "      <td>0.333333</td>\n",
       "      <td>0.333333</td>\n",
       "      <td>0.000000</td>\n",
       "      <td>0.000000</td>\n",
       "      <td>0</td>\n",
       "      <td>2</td>\n",
       "      <td>4000.0</td>\n",
       "      <td>0.000000</td>\n",
       "      <td>NaN</td>\n",
       "      <td>0.0</td>\n",
       "      <td>6</td>\n",
       "    </tr>\n",
       "    <tr>\n",
       "      <th>8946</th>\n",
       "      <td>C19187</td>\n",
       "      <td>19.183215</td>\n",
       "      <td>1.000000</td>\n",
       "      <td>300.00</td>\n",
       "      <td>0.00</td>\n",
       "      <td>300.0</td>\n",
       "      <td>0.000000</td>\n",
       "      <td>1.000000</td>\n",
       "      <td>0.000000</td>\n",
       "      <td>0.833333</td>\n",
       "      <td>0.000000</td>\n",
       "      <td>0</td>\n",
       "      <td>6</td>\n",
       "      <td>1000.0</td>\n",
       "      <td>275.861322</td>\n",
       "      <td>NaN</td>\n",
       "      <td>0.0</td>\n",
       "      <td>6</td>\n",
       "    </tr>\n",
       "  </tbody>\n",
       "</table>\n",
       "<p>313 rows × 18 columns</p>\n",
       "</div>"
      ],
      "text/plain": [
       "     CUST_ID      BALANCE  BALANCE_FREQUENCY  PURCHASES  ONEOFF_PURCHASES  \\\n",
       "3     C10004  1666.670542           0.636364    1499.00           1499.00   \n",
       "45    C10047  2242.311686           1.000000     437.00             97.00   \n",
       "47    C10049  3910.111237           1.000000       0.00              0.00   \n",
       "54    C10056     6.660517           0.636364     310.00              0.00   \n",
       "55    C10057  1311.995984           1.000000    1283.90           1283.90   \n",
       "...      ...          ...                ...        ...               ...   \n",
       "8919  C19160    14.524779           0.333333     152.00            152.00   \n",
       "8929  C19170   371.527312           0.333333       0.00              0.00   \n",
       "8935  C19176   183.817004           1.000000     465.90              0.00   \n",
       "8944  C19185   193.571722           0.833333    1012.73           1012.73   \n",
       "8946  C19187    19.183215           1.000000     300.00              0.00   \n",
       "\n",
       "      INSTALLMENTS_PURCHASES  CASH_ADVANCE  PURCHASES_FREQUENCY  \\\n",
       "3                        0.0    205.788017             0.083333   \n",
       "45                     340.0    184.648692             0.333333   \n",
       "47                       0.0   1980.873201             0.000000   \n",
       "54                     310.0      0.000000             0.666667   \n",
       "55                       0.0      0.000000             0.250000   \n",
       "...                      ...           ...                  ...   \n",
       "8919                     0.0      0.000000             0.333333   \n",
       "8929                     0.0   1465.407927             0.000000   \n",
       "8935                   465.9      0.000000             1.000000   \n",
       "8944                     0.0      0.000000             0.333333   \n",
       "8946                   300.0      0.000000             1.000000   \n",
       "\n",
       "      ONEOFF_PURCHASES_FREQUENCY  PURCHASES_INSTALLMENTS_FREQUENCY  \\\n",
       "3                       0.083333                          0.000000   \n",
       "45                      0.083333                          0.333333   \n",
       "47                      0.000000                          0.000000   \n",
       "54                      0.000000                          0.666667   \n",
       "55                      0.250000                          0.000000   \n",
       "...                          ...                               ...   \n",
       "8919                    0.333333                          0.000000   \n",
       "8929                    0.000000                          0.000000   \n",
       "8935                    0.000000                          0.833333   \n",
       "8944                    0.333333                          0.000000   \n",
       "8946                    0.000000                          0.833333   \n",
       "\n",
       "      CASH_ADVANCE_FREQUENCY  CASH_ADVANCE_TRX  PURCHASES_TRX  CREDIT_LIMIT  \\\n",
       "3                   0.083333                 1              1        7500.0   \n",
       "45                  0.166667                 2              5        2400.0   \n",
       "47                  0.500000                 7              0        4200.0   \n",
       "54                  0.000000                 0              8        1000.0   \n",
       "55                  0.000000                 0              6        6000.0   \n",
       "...                      ...               ...            ...           ...   \n",
       "8919                0.000000                 0              2        1500.0   \n",
       "8929                0.166667                 5              0        1500.0   \n",
       "8935                0.000000                 0              6        1500.0   \n",
       "8944                0.000000                 0              2        4000.0   \n",
       "8946                0.000000                 0              6        1000.0   \n",
       "\n",
       "        PAYMENTS  MINIMUM_PAYMENTS  PRC_FULL_PAYMENT  TENURE  \n",
       "3       0.000000               NaN               0.0      12  \n",
       "45      0.000000               NaN               0.0      12  \n",
       "47      0.000000               NaN               0.0      12  \n",
       "54    417.016763               NaN               0.0      12  \n",
       "55      0.000000               NaN               0.0      12  \n",
       "...          ...               ...               ...     ...  \n",
       "8919    0.000000               NaN               0.0       6  \n",
       "8929    0.000000               NaN               0.0       6  \n",
       "8935    0.000000               NaN               0.0       6  \n",
       "8944    0.000000               NaN               0.0       6  \n",
       "8946  275.861322               NaN               0.0       6  \n",
       "\n",
       "[313 rows x 18 columns]"
      ]
     },
     "execution_count": 13,
     "metadata": {},
     "output_type": "execute_result"
    }
   ],
   "source": [
    "df[df['MINIMUM_PAYMENTS'].isnull()]"
   ]
  },
  {
   "cell_type": "code",
   "execution_count": 14,
   "metadata": {},
   "outputs": [
    {
     "data": {
      "text/html": [
       "<div>\n",
       "<style scoped>\n",
       "    .dataframe tbody tr th:only-of-type {\n",
       "        vertical-align: middle;\n",
       "    }\n",
       "\n",
       "    .dataframe tbody tr th {\n",
       "        vertical-align: top;\n",
       "    }\n",
       "\n",
       "    .dataframe thead th {\n",
       "        text-align: right;\n",
       "    }\n",
       "</style>\n",
       "<table border=\"1\" class=\"dataframe\">\n",
       "  <thead>\n",
       "    <tr style=\"text-align: right;\">\n",
       "      <th></th>\n",
       "      <th>CUST_ID</th>\n",
       "      <th>BALANCE</th>\n",
       "      <th>BALANCE_FREQUENCY</th>\n",
       "      <th>PURCHASES</th>\n",
       "      <th>ONEOFF_PURCHASES</th>\n",
       "      <th>INSTALLMENTS_PURCHASES</th>\n",
       "      <th>CASH_ADVANCE</th>\n",
       "      <th>PURCHASES_FREQUENCY</th>\n",
       "      <th>ONEOFF_PURCHASES_FREQUENCY</th>\n",
       "      <th>PURCHASES_INSTALLMENTS_FREQUENCY</th>\n",
       "      <th>CASH_ADVANCE_FREQUENCY</th>\n",
       "      <th>CASH_ADVANCE_TRX</th>\n",
       "      <th>PURCHASES_TRX</th>\n",
       "      <th>CREDIT_LIMIT</th>\n",
       "      <th>PAYMENTS</th>\n",
       "      <th>MINIMUM_PAYMENTS</th>\n",
       "      <th>PRC_FULL_PAYMENT</th>\n",
       "      <th>TENURE</th>\n",
       "    </tr>\n",
       "  </thead>\n",
       "  <tbody>\n",
       "    <tr>\n",
       "      <th>5203</th>\n",
       "      <td>C15349</td>\n",
       "      <td>18.400472</td>\n",
       "      <td>0.166667</td>\n",
       "      <td>0.0</td>\n",
       "      <td>0.0</td>\n",
       "      <td>0.0</td>\n",
       "      <td>186.853063</td>\n",
       "      <td>0.0</td>\n",
       "      <td>0.0</td>\n",
       "      <td>0.0</td>\n",
       "      <td>0.166667</td>\n",
       "      <td>1</td>\n",
       "      <td>0</td>\n",
       "      <td>NaN</td>\n",
       "      <td>9.040017</td>\n",
       "      <td>14.418723</td>\n",
       "      <td>0.0</td>\n",
       "      <td>6</td>\n",
       "    </tr>\n",
       "  </tbody>\n",
       "</table>\n",
       "</div>"
      ],
      "text/plain": [
       "     CUST_ID    BALANCE  BALANCE_FREQUENCY  PURCHASES  ONEOFF_PURCHASES  \\\n",
       "5203  C15349  18.400472           0.166667        0.0               0.0   \n",
       "\n",
       "      INSTALLMENTS_PURCHASES  CASH_ADVANCE  PURCHASES_FREQUENCY  \\\n",
       "5203                     0.0    186.853063                  0.0   \n",
       "\n",
       "      ONEOFF_PURCHASES_FREQUENCY  PURCHASES_INSTALLMENTS_FREQUENCY  \\\n",
       "5203                         0.0                               0.0   \n",
       "\n",
       "      CASH_ADVANCE_FREQUENCY  CASH_ADVANCE_TRX  PURCHASES_TRX  CREDIT_LIMIT  \\\n",
       "5203                0.166667                 1              0           NaN   \n",
       "\n",
       "      PAYMENTS  MINIMUM_PAYMENTS  PRC_FULL_PAYMENT  TENURE  \n",
       "5203  9.040017         14.418723               0.0       6  "
      ]
     },
     "execution_count": 14,
     "metadata": {},
     "output_type": "execute_result"
    }
   ],
   "source": [
    "df[df['CREDIT_LIMIT'].isnull()]"
   ]
  },
  {
   "cell_type": "code",
   "execution_count": 18,
   "metadata": {},
   "outputs": [
    {
     "data": {
      "text/plain": [
       "count     8637.000000\n",
       "mean       864.206542\n",
       "std       2372.446607\n",
       "min          0.019163\n",
       "25%        169.123707\n",
       "50%        312.343947\n",
       "75%        825.485459\n",
       "max      76406.207520\n",
       "Name: MINIMUM_PAYMENTS, dtype: float64"
      ]
     },
     "execution_count": 18,
     "metadata": {},
     "output_type": "execute_result"
    }
   ],
   "source": [
    "df['MINIMUM_PAYMENTS'].describe()"
   ]
  },
  {
   "cell_type": "code",
   "execution_count": 24,
   "metadata": {},
   "outputs": [
    {
     "data": {
      "text/plain": [
       "0        139.509787\n",
       "1       1072.340217\n",
       "2        627.284787\n",
       "3               NaN\n",
       "4        244.791237\n",
       "           ...     \n",
       "8945      48.886365\n",
       "8946            NaN\n",
       "8947      82.418369\n",
       "8948      55.755628\n",
       "8949      88.288956\n",
       "Name: MINIMUM_PAYMENTS, Length: 8950, dtype: float64"
      ]
     },
     "execution_count": 24,
     "metadata": {},
     "output_type": "execute_result"
    }
   ],
   "source": [
    "df['MINIMUM_PAYMENTS']"
   ]
  },
  {
   "cell_type": "code",
   "execution_count": 25,
   "metadata": {},
   "outputs": [
    {
     "data": {
      "text/plain": [
       "<matplotlib.axes._subplots.AxesSubplot at 0x110534390>"
      ]
     },
     "execution_count": 25,
     "metadata": {},
     "output_type": "execute_result"
    },
    {
     "data": {
      "image/png": "[encoded data removed]",
      "text/plain": [
       "<Figure size 432x288 with 1 Axes>"
      ]
     },
     "metadata": {
      "needs_background": "light"
     },
     "output_type": "display_data"
    }
   ],
   "source": [
    "df['MINIMUM_PAYMENTS'].hist(bins=80)"
   ]
  },
  {
   "cell_type": "code",
   "execution_count": 26,
   "metadata": {},
   "outputs": [],
   "source": [
    "df =df.dropna()"
   ]
  },
  {
   "cell_type": "code",
   "execution_count": 27,
   "metadata": {},
   "outputs": [
    {
     "data": {
      "text/plain": [
       "CUST_ID                             0\n",
       "BALANCE                             0\n",
       "BALANCE_FREQUENCY                   0\n",
       "PURCHASES                           0\n",
       "ONEOFF_PURCHASES                    0\n",
       "INSTALLMENTS_PURCHASES              0\n",
       "CASH_ADVANCE                        0\n",
       "PURCHASES_FREQUENCY                 0\n",
       "ONEOFF_PURCHASES_FREQUENCY          0\n",
       "PURCHASES_INSTALLMENTS_FREQUENCY    0\n",
       "CASH_ADVANCE_FREQUENCY              0\n",
       "CASH_ADVANCE_TRX                    0\n",
       "PURCHASES_TRX                       0\n",
       "CREDIT_LIMIT                        0\n",
       "PAYMENTS                            0\n",
       "MINIMUM_PAYMENTS                    0\n",
       "PRC_FULL_PAYMENT                    0\n",
       "TENURE                              0\n",
       "dtype: int64"
      ]
     },
     "execution_count": 27,
     "metadata": {},
     "output_type": "execute_result"
    }
   ],
   "source": [
    "df.isnull().sum()"
   ]
  },
  {
   "cell_type": "markdown",
   "metadata": {},
   "source": [
    "Checking the correlation of the features"
   ]
  },
  {
   "cell_type": "code",
   "execution_count": 34,
   "metadata": {},
   "outputs": [
    {
     "data": {
      "text/html": [
       "        <script type=\"text/javascript\">\n",
       "        window.PlotlyConfig = {MathJaxConfig: 'local'};\n",
       "        if (window.MathJax) {MathJax.Hub.Config({SVG: {font: \"STIX-Web\"}});}\n",
       "        if (typeof require !== 'undefined') {\n",
       "        require.undef(\"plotly\");\n",
       "        requirejs.config({\n",
       "            paths: {\n",
       "                'plotly': ['https://cdn.plot.ly/plotly-latest.min']\n",
       "            }\n",
       "        });\n",
       "        require(['plotly'], function(Plotly) {\n",
       "            window._Plotly = Plotly;\n",
       "        });\n",
       "        }\n",
       "        </script>\n",
       "        "
      ]
     },
     "metadata": {},
     "output_type": "display_data"
    }
   ],
   "source": [
    "from plotly.offline import init_notebook_mode, iplot\n",
    "import cufflinks as cf #c ufflinks links plotly to pandas and add iplot method\n",
    "cf.go_offline()\n",
    "cf.set_config_file(offline=False, world_readable=True)"
   ]
  },
  {
   "cell_type": "code",
   "execution_count": 35,
   "metadata": {},
   "outputs": [
    {
     "data": {
      "application/vnd.plotly.v1+json": {
       "config": {
        "linkText": "Export to plot.ly",
        "plotlyServerURL": "https://plot.ly",
        "showLink": true
       },
       "data": [
        {
         "colorscale": [
          [
           0,
           "rgb(247,251,255)"
          ],
          [
           0.125,
           "rgb(222,235,247)"
          ],
          [
           0.25,
           "rgb(198,219,239)"
          ],
          [
           0.375,
           "rgb(158,202,225)"
          ],
          [
           0.5,
           "rgb(107,174,214)"
          ],
          [
           0.625,
           "rgb(66,146,198)"
          ],
          [
           0.75,
           "rgb(33,113,181)"
          ],
          [
           0.875,
           "rgb(8,81,156)"
          ],
          [
           1,
           "rgb(8,48,107)"
          ]
         ],
         "type": "heatmap",
         "x": [
          "BALANCE",
          "BALANCE_FREQUENCY",
          "PURCHASES",
          "ONEOFF_PURCHASES",
          "INSTALLMENTS_PURCHASES",
          "CASH_ADVANCE",
          "PURCHASES_FREQUENCY",
          "ONEOFF_PURCHASES_FREQUENCY",
          "PURCHASES_INSTALLMENTS_FREQUENCY",
          "CASH_ADVANCE_FREQUENCY",
          "CASH_ADVANCE_TRX",
          "PURCHASES_TRX",
          "CREDIT_LIMIT",
          "PAYMENTS",
          "MINIMUM_PAYMENTS",
          "PRC_FULL_PAYMENT",
          "TENURE"
         ],
         "y": [
          "BALANCE",
          "BALANCE_FREQUENCY",
          "PURCHASES",
          "ONEOFF_PURCHASES",
          "INSTALLMENTS_PURCHASES",
          "CASH_ADVANCE",
          "PURCHASES_FREQUENCY",
          "ONEOFF_PURCHASES_FREQUENCY",
          "PURCHASES_INSTALLMENTS_FREQUENCY",
          "CASH_ADVANCE_FREQUENCY",
          "CASH_ADVANCE_TRX",
          "PURCHASES_TRX",
          "CREDIT_LIMIT",
          "PAYMENTS",
          "MINIMUM_PAYMENTS",
          "PRC_FULL_PAYMENT",
          "TENURE"
         ],
         "z": [
          [
           1,
           0.31014045208567703,
           0.17608308856119267,
           0.15998462233135352,
           0.12210871802330799,
           0.495585620743423,
           -0.08845943918260868,
           0.06383163346042926,
           -0.06958198656198095,
           0.445307159785649,
           0.38238844579153225,
           0.14788721236978042,
           0.5355181769398333,
           0.32283000204734263,
           0.3986689195338599,
           -0.33359377818008046,
           0.06698708795722633
          ],
          [
           0.31014045208567703,
           1,
           0.12263474755434782,
           0.09525420784944501,
           0.1147390394948519,
           0.08903584855613236,
           0.2281580171380641,
           0.18746741768659955,
           0.18415943873734955,
           0.18113215557296788,
           0.13326522446773878,
           0.1830947127678604,
           0.08768229019187654,
           0.03916909514652182,
           0.13251924600931425,
           -0.15696080288239797,
           0.10471440897432303
          ],
          [
           0.17608308856119267,
           0.12263474755434782,
           1,
           0.9167802242554735,
           0.679258896652998,
           -0.053760221004655315,
           0.3929996912365039,
           0.4973840666607059,
           0.31602493015504646,
           -0.12486256249891206,
           -0.07027722776542114,
           0.6887316093441338,
           0.3584254001649606,
           0.6067823607257229,
           0.0938420000240443,
           0.1764472177169539,
           0.0845451851935757
          ],
          [
           0.15998462233135352,
           0.09525420784944501,
           0.9167802242554735,
           1,
           0.32964962790578606,
           -0.033244357141670844,
           0.2654604833897602,
           0.524514060273825,
           0.12837980683401193,
           -0.08641310618762203,
           -0.04870521447411463,
           0.5453126692974534,
           0.3206134509509604,
           0.5708503450970259,
           0.04874124063531785,
           0.12988996686475815,
           0.06339985996166683
          ],
          [
           0.12210871802330799,
           0.1147390394948519,
           0.679258896652998,
           0.32964962790578606,
           1,
           -0.06609906907431336,
           0.44119344019322165,
           0.21182881221553224,
           0.5111303006995004,
           -0.1364548113493059,
           -0.07671580247195621,
           0.626082540455622,
           0.2580574927494678,
           0.3853911836213621,
           0.1321557865911268,
           0.17843958601394735,
           0.08334566756392965
          ],
          [
           0.495585620743423,
           0.08903584855613236,
           -0.053760221004655315,
           -0.033244357141670844,
           -0.06609906907431336,
           1,
           -0.21856648042585874,
           -0.09011083278887237,
           -0.17887343049317075,
           0.6290302541257783,
           0.6569114701173954,
           -0.07844867568470788,
           0.30416069418073394,
           0.45934244173674393,
           0.14009386898917056,
           -0.15856634313855392,
           -0.07308979424179618
          ],
          [
           -0.08845943918260868,
           0.2281580171380641,
           0.3929996912365039,
           0.2654604833897602,
           0.44119344019322165,
           -0.21856648042585874,
           1,
           0.5021232684816977,
           0.8623379116139267,
           -0.31677071791087374,
           -0.20874915899593754,
           0.5671682585433673,
           0.12137198824215636,
           0.10071517464689404,
           0.0029787151114887317,
           0.30539330931820685,
           0.05216082018407326
          ],
          [
           0.06383163346042926,
           0.18746741768659955,
           0.4973840666607059,
           0.524514060273825,
           0.21182881221553224,
           -0.09011083278887237,
           0.5021232684816977,
           1,
           0.1439112742543264,
           -0.11822491034570548,
           -0.07338371590147305,
           0.5443641904797117,
           0.29543233530324425,
           0.24434588309841787,
           -0.030356500940456763,
           0.15407317013250613,
           0.08043719998930599
          ],
          [
           -0.06958198656198095,
           0.18415943873734955,
           0.31602493015504646,
           0.12837980683401193,
           0.5111303006995004,
           -0.17887343049317075,
           0.8623379116139267,
           0.1439112742543264,
           1,
           -0.2689239612692933,
           -0.17281089956875834,
           0.5291915591651051,
           0.06342087713267926,
           0.083424121951666,
           0.030036248197487597,
           0.24954658975156657,
           0.06577934944512143
          ],
          [
           0.445307159785649,
           0.18113215557296788,
           -0.12486256249891206,
           -0.08641310618762203,
           -0.1364548113493059,
           0.6290302541257783,
           -0.31677071791087374,
           -0.11822491034570548,
           -0.2689239612692933,
           1,
           0.7995928545854557,
           -0.13691325731718573,
           0.1328405898517304,
           0.18233951464470669,
           0.09884446164123437,
           -0.26000117241758974,
           -0.1400376202424462
          ],
          [
           0.38238844579153225,
           0.13326522446773878,
           -0.07027722776542114,
           -0.04870521447411463,
           -0.07671580247195621,
           0.6569114701173954,
           -0.20874915899593754,
           -0.07338371590147305,
           -0.17281089956875834,
           0.7995928545854557,
           1,
           -0.06987920359449375,
           0.15026108735079205,
           0.2559214276852045,
           0.10972696820728675,
           -0.176574137226065,
           -0.045350102414184204
          ],
          [
           0.14788721236978042,
           0.1830947127678604,
           0.6887316093441338,
           0.5453126692974534,
           0.626082540455622,
           -0.07844867568470788,
           0.5671682585433673,
           0.5443641904797117,
           0.5291915591651051,
           -0.13691325731718573,
           -0.06987920359449375,
           1,
           0.2737151038048494,
           0.3714773914936534,
           0.09631067568643956,
           0.15678886884270152,
           0.11888947235964824
          ],
          [
           0.5355181769398333,
           0.08768229019187654,
           0.3584254001649606,
           0.3206134509509604,
           0.2580574927494678,
           0.30416069418073394,
           0.12137198824215636,
           0.29543233530324425,
           0.06342087713267926,
           0.1328405898517304,
           0.15026108735079205,
           0.2737151038048494,
           1,
           0.42695138714545106,
           0.12667094627123457,
           0.052577915453765105,
           0.1364638180231508
          ],
          [
           0.32283000204734263,
           0.03916909514652182,
           0.6067823607257229,
           0.5708503450970259,
           0.3853911836213621,
           0.45934244173674393,
           0.10071517464689404,
           0.24434588309841787,
           0.083424121951666,
           0.18233951464470669,
           0.2559214276852045,
           0.3714773914936534,
           0.42695138714545106,
           1,
           0.12662950481333798,
           0.10466810198262377,
           0.1029858004552009
          ],
          [
           0.3986689195338599,
           0.13251924600931425,
           0.0938420000240443,
           0.04874124063531785,
           0.1321557865911268,
           0.14009386898917056,
           0.0029787151114887317,
           -0.030356500940456763,
           0.030036248197487597,
           0.09884446164123437,
           0.10972696820728675,
           0.09631067568643956,
           0.12667094627123457,
           0.12662950481333798,
           1,
           -0.14040420688698046,
           0.05933030437500164
          ],
          [
           -0.33359377818008046,
           -0.15696080288239797,
           0.1764472177169539,
           0.12988996686475815,
           0.17843958601394735,
           -0.15856634313855392,
           0.30539330931820685,
           0.15407317013250613,
           0.24954658975156657,
           -0.26000117241758974,
           -0.176574137226065,
           0.15678886884270152,
           0.052577915453765105,
           0.10466810198262377,
           -0.14040420688698046,
           1,
           -0.024222596404343766
          ],
          [
           0.06698708795722633,
           0.10471440897432303,
           0.0845451851935757,
           0.06339985996166683,
           0.08334566756392965,
           -0.07308979424179618,
           0.05216082018407326,
           0.08043719998930599,
           0.06577934944512143,
           -0.1400376202424462,
           -0.045350102414184204,
           0.11888947235964824,
           0.1364638180231508,
           0.1029858004552009,
           0.05933030437500164,
           -0.024222596404343766,
           1
          ]
         ],
         "zmax": 1,
         "zmin": -0.33359377818008046
        }
       ],
       "layout": {
        "legend": {
         "bgcolor": "#F5F6F9",
         "font": {
          "color": "#4D5663"
         }
        },
        "paper_bgcolor": "#F5F6F9",
        "plot_bgcolor": "#F5F6F9",
        "template": {
         "data": {
          "bar": [
           {
            "error_x": {
             "color": "#2a3f5f"
            },
            "error_y": {
             "color": "#2a3f5f"
            },
            "marker": {
             "line": {
              "color": "#E5ECF6",
              "width": 0.5
             }
            },
            "type": "bar"
           }
          ],
          "barpolar": [
           {
            "marker": {
             "line": {
              "color": "#E5ECF6",
              "width": 0.5
             }
            },
            "type": "barpolar"
           }
          ],
          "carpet": [
           {
            "aaxis": {
             "endlinecolor": "#2a3f5f",
             "gridcolor": "white",
             "linecolor": "white",
             "minorgridcolor": "white",
             "startlinecolor": "#2a3f5f"
            },
            "baxis": {
             "endlinecolor": "#2a3f5f",
             "gridcolor": "white",
             "linecolor": "white",
             "minorgridcolor": "white",
             "startlinecolor": "#2a3f5f"
            },
            "type": "carpet"
           }
          ],
          "choropleth": [
           {
            "colorbar": {
             "outlinewidth": 0,
             "ticks": ""
            },
            "type": "choropleth"
           }
          ],
          "contour": [
           {
            "colorbar": {
             "outlinewidth": 0,
             "ticks": ""
            },
            "colorscale": [
             [
              0,
              "#0d0887"
             ],
             [
              0.1111111111111111,
              "#46039f"
             ],
             [
              0.2222222222222222,
              "#7201a8"
             ],
             [
              0.3333333333333333,
              "#9c179e"
             ],
             [
              0.4444444444444444,
              "#bd3786"
             ],
             [
              0.5555555555555556,
              "#d8576b"
             ],
             [
              0.6666666666666666,
              "#ed7953"
             ],
             [
              0.7777777777777778,
              "#fb9f3a"
             ],
             [
              0.8888888888888888,
              "#fdca26"
             ],
             [
              1,
              "#f0f921"
             ]
            ],
            "type": "contour"
           }
          ],
          "contourcarpet": [
           {
            "colorbar": {
             "outlinewidth": 0,
             "ticks": ""
            },
            "type": "contourcarpet"
           }
          ],
          "heatmap": [
           {
            "colorbar": {
             "outlinewidth": 0,
             "ticks": ""
            },
            "colorscale": [
             [
              0,
              "#0d0887"
             ],
             [
              0.1111111111111111,
              "#46039f"
             ],
             [
              0.2222222222222222,
              "#7201a8"
             ],
             [
              0.3333333333333333,
              "#9c179e"
             ],
             [
              0.4444444444444444,
              "#bd3786"
             ],
             [
              0.5555555555555556,
              "#d8576b"
             ],
             [
              0.6666666666666666,
              "#ed7953"
             ],
             [
              0.7777777777777778,
              "#fb9f3a"
             ],
             [
              0.8888888888888888,
              "#fdca26"
             ],
             [
              1,
              "#f0f921"
             ]
            ],
            "type": "heatmap"
           }
          ],
          "heatmapgl": [
           {
            "colorbar": {
             "outlinewidth": 0,
             "ticks": ""
            },
            "colorscale": [
             [
              0,
              "#0d0887"
             ],
             [
              0.1111111111111111,
              "#46039f"
             ],
             [
              0.2222222222222222,
              "#7201a8"
             ],
             [
              0.3333333333333333,
              "#9c179e"
             ],
             [
              0.4444444444444444,
              "#bd3786"
             ],
             [
              0.5555555555555556,
              "#d8576b"
             ],
             [
              0.6666666666666666,
              "#ed7953"
             ],
             [
              0.7777777777777778,
              "#fb9f3a"
             ],
             [
              0.8888888888888888,
              "#fdca26"
             ],
             [
              1,
              "#f0f921"
             ]
            ],
            "type": "heatmapgl"
           }
          ],
          "histogram": [
           {
            "marker": {
             "colorbar": {
              "outlinewidth": 0,
              "ticks": ""
             }
            },
            "type": "histogram"
           }
          ],
          "histogram2d": [
           {
            "colorbar": {
             "outlinewidth": 0,
             "ticks": ""
            },
            "colorscale": [
             [
              0,
              "#0d0887"
             ],
             [
              0.1111111111111111,
              "#46039f"
             ],
             [
              0.2222222222222222,
              "#7201a8"
             ],
             [
              0.3333333333333333,
              "#9c179e"
             ],
             [
              0.4444444444444444,
              "#bd3786"
             ],
             [
              0.5555555555555556,
              "#d8576b"
             ],
             [
              0.6666666666666666,
              "#ed7953"
             ],
             [
              0.7777777777777778,
              "#fb9f3a"
             ],
             [
              0.8888888888888888,
              "#fdca26"
             ],
             [
              1,
              "#f0f921"
             ]
            ],
            "type": "histogram2d"
           }
          ],
          "histogram2dcontour": [
           {
            "colorbar": {
             "outlinewidth": 0,
             "ticks": ""
            },
            "colorscale": [
             [
              0,
              "#0d0887"
             ],
             [
              0.1111111111111111,
              "#46039f"
             ],
             [
              0.2222222222222222,
              "#7201a8"
             ],
             [
              0.3333333333333333,
              "#9c179e"
             ],
             [
              0.4444444444444444,
              "#bd3786"
             ],
             [
              0.5555555555555556,
              "#d8576b"
             ],
             [
              0.6666666666666666,
              "#ed7953"
             ],
             [
              0.7777777777777778,
              "#fb9f3a"
             ],
             [
              0.8888888888888888,
              "#fdca26"
             ],
             [
              1,
              "#f0f921"
             ]
            ],
            "type": "histogram2dcontour"
           }
          ],
          "mesh3d": [
           {
            "colorbar": {
             "outlinewidth": 0,
             "ticks": ""
            },
            "type": "mesh3d"
           }
          ],
          "parcoords": [
           {
            "line": {
             "colorbar": {
              "outlinewidth": 0,
              "ticks": ""
             }
            },
            "type": "parcoords"
           }
          ],
          "pie": [
           {
            "automargin": true,
            "type": "pie"
           }
          ],
          "scatter": [
           {
            "marker": {
             "colorbar": {
              "outlinewidth": 0,
              "ticks": ""
             }
            },
            "type": "scatter"
           }
          ],
          "scatter3d": [
           {
            "line": {
             "colorbar": {
              "outlinewidth": 0,
              "ticks": ""
             }
            },
            "marker": {
             "colorbar": {
              "outlinewidth": 0,
              "ticks": ""
             }
            },
            "type": "scatter3d"
           }
          ],
          "scattercarpet": [
           {
            "marker": {
             "colorbar": {
              "outlinewidth": 0,
              "ticks": ""
             }
            },
            "type": "scattercarpet"
           }
          ],
          "scattergeo": [
           {
            "marker": {
             "colorbar": {
              "outlinewidth": 0,
              "ticks": ""
             }
            },
            "type": "scattergeo"
           }
          ],
          "scattergl": [
           {
            "marker": {
             "colorbar": {
              "outlinewidth": 0,
              "ticks": ""
             }
            },
            "type": "scattergl"
           }
          ],
          "scattermapbox": [
           {
            "marker": {
             "colorbar": {
              "outlinewidth": 0,
              "ticks": ""
             }
            },
            "type": "scattermapbox"
           }
          ],
          "scatterpolar": [
           {
            "marker": {
             "colorbar": {
              "outlinewidth": 0,
              "ticks": ""
             }
            },
            "type": "scatterpolar"
           }
          ],
          "scatterpolargl": [
           {
            "marker": {
             "colorbar": {
              "outlinewidth": 0,
              "ticks": ""
             }
            },
            "type": "scatterpolargl"
           }
          ],
          "scatterternary": [
           {
            "marker": {
             "colorbar": {
              "outlinewidth": 0,
              "ticks": ""
             }
            },
            "type": "scatterternary"
           }
          ],
          "surface": [
           {
            "colorbar": {
             "outlinewidth": 0,
             "ticks": ""
            },
            "colorscale": [
             [
              0,
              "#0d0887"
             ],
             [
              0.1111111111111111,
              "#46039f"
             ],
             [
              0.2222222222222222,
              "#7201a8"
             ],
             [
              0.3333333333333333,
              "#9c179e"
             ],
             [
              0.4444444444444444,
              "#bd3786"
             ],
             [
              0.5555555555555556,
              "#d8576b"
             ],
             [
              0.6666666666666666,
              "#ed7953"
             ],
             [
              0.7777777777777778,
              "#fb9f3a"
             ],
             [
              0.8888888888888888,
              "#fdca26"
             ],
             [
              1,
              "#f0f921"
             ]
            ],
            "type": "surface"
           }
          ],
          "table": [
           {
            "cells": {
             "fill": {
              "color": "#EBF0F8"
             },
             "line": {
              "color": "white"
             }
            },
            "header": {
             "fill": {
              "color": "#C8D4E3"
             },
             "line": {
              "color": "white"
             }
            },
            "type": "table"
           }
          ]
         },
         "layout": {
          "annotationdefaults": {
           "arrowcolor": "#2a3f5f",
           "arrowhead": 0,
           "arrowwidth": 1
          },
          "coloraxis": {
           "colorbar": {
            "outlinewidth": 0,
            "ticks": ""
           }
          },
          "colorscale": {
           "diverging": [
            [
             0,
             "#8e0152"
            ],
            [
             0.1,
             "#c51b7d"
            ],
            [
             0.2,
             "#de77ae"
            ],
            [
             0.3,
             "#f1b6da"
            ],
            [
             0.4,
             "#fde0ef"
            ],
            [
             0.5,
             "#f7f7f7"
            ],
            [
             0.6,
             "#e6f5d0"
            ],
            [
             0.7,
             "#b8e186"
            ],
            [
             0.8,
             "#7fbc41"
            ],
            [
             0.9,
             "#4d9221"
            ],
            [
             1,
             "#276419"
            ]
           ],
           "sequential": [
            [
             0,
             "#0d0887"
            ],
            [
             0.1111111111111111,
             "#46039f"
            ],
            [
             0.2222222222222222,
             "#7201a8"
            ],
            [
             0.3333333333333333,
             "#9c179e"
            ],
            [
             0.4444444444444444,
             "#bd3786"
            ],
            [
             0.5555555555555556,
             "#d8576b"
            ],
            [
             0.6666666666666666,
             "#ed7953"
            ],
            [
             0.7777777777777778,
             "#fb9f3a"
            ],
            [
             0.8888888888888888,
             "#fdca26"
            ],
            [
             1,
             "#f0f921"
            ]
           ],
           "sequentialminus": [
            [
             0,
             "#0d0887"
            ],
            [
             0.1111111111111111,
             "#46039f"
            ],
            [
             0.2222222222222222,
             "#7201a8"
            ],
            [
             0.3333333333333333,
             "#9c179e"
            ],
            [
             0.4444444444444444,
             "#bd3786"
            ],
            [
             0.5555555555555556,
             "#d8576b"
            ],
            [
             0.6666666666666666,
             "#ed7953"
            ],
            [
             0.7777777777777778,
             "#fb9f3a"
            ],
            [
             0.8888888888888888,
             "#fdca26"
            ],
            [
             1,
             "#f0f921"
            ]
           ]
          },
          "colorway": [
           "#636efa",
           "#EF553B",
           "#00cc96",
           "#ab63fa",
           "#FFA15A",
           "#19d3f3",
           "#FF6692",
           "#B6E880",
           "#FF97FF",
           "#FECB52"
          ],
          "font": {
           "color": "#2a3f5f"
          },
          "geo": {
           "bgcolor": "white",
           "lakecolor": "white",
           "landcolor": "#E5ECF6",
           "showlakes": true,
           "showland": true,
           "subunitcolor": "white"
          },
          "hoverlabel": {
           "align": "left"
          },
          "hovermode": "closest",
          "mapbox": {
           "style": "light"
          },
          "paper_bgcolor": "white",
          "plot_bgcolor": "#E5ECF6",
          "polar": {
           "angularaxis": {
            "gridcolor": "white",
            "linecolor": "white",
            "ticks": ""
           },
           "bgcolor": "#E5ECF6",
           "radialaxis": {
            "gridcolor": "white",
            "linecolor": "white",
            "ticks": ""
           }
          },
          "scene": {
           "xaxis": {
            "backgroundcolor": "#E5ECF6",
            "gridcolor": "white",
            "gridwidth": 2,
            "linecolor": "white",
            "showbackground": true,
            "ticks": "",
            "zerolinecolor": "white"
           },
           "yaxis": {
            "backgroundcolor": "#E5ECF6",
            "gridcolor": "white",
            "gridwidth": 2,
            "linecolor": "white",
            "showbackground": true,
            "ticks": "",
            "zerolinecolor": "white"
           },
           "zaxis": {
            "backgroundcolor": "#E5ECF6",
            "gridcolor": "white",
            "gridwidth": 2,
            "linecolor": "white",
            "showbackground": true,
            "ticks": "",
            "zerolinecolor": "white"
           }
          },
          "shapedefaults": {
           "line": {
            "color": "#2a3f5f"
           }
          },
          "ternary": {
           "aaxis": {
            "gridcolor": "white",
            "linecolor": "white",
            "ticks": ""
           },
           "baxis": {
            "gridcolor": "white",
            "linecolor": "white",
            "ticks": ""
           },
           "bgcolor": "#E5ECF6",
           "caxis": {
            "gridcolor": "white",
            "linecolor": "white",
            "ticks": ""
           }
          },
          "title": {
           "x": 0.05
          },
          "xaxis": {
           "automargin": true,
           "gridcolor": "white",
           "linecolor": "white",
           "ticks": "",
           "title": {
            "standoff": 15
           },
           "zerolinecolor": "white",
           "zerolinewidth": 2
          },
          "yaxis": {
           "automargin": true,
           "gridcolor": "white",
           "linecolor": "white",
           "ticks": "",
           "title": {
            "standoff": 15
           },
           "zerolinecolor": "white",
           "zerolinewidth": 2
          }
         }
        },
        "title": {
         "font": {
          "color": "#4D5663"
         },
         "text": "Feature Correlation Matrix"
        },
        "xaxis": {
         "gridcolor": "#E1E5ED",
         "showgrid": true,
         "tickfont": {
          "color": "#4D5663"
         },
         "title": {
          "font": {
           "color": "#4D5663"
          },
          "text": ""
         },
         "zerolinecolor": "#E1E5ED"
        },
        "yaxis": {
         "gridcolor": "#E1E5ED",
         "showgrid": true,
         "tickfont": {
          "color": "#4D5663"
         },
         "title": {
          "font": {
           "color": "#4D5663"
          },
          "text": ""
         },
         "zerolinecolor": "#E1E5ED"
        }
       }
      },
      "text/html": [
       "<div>\n",
       "        \n",
       "        \n",
       "            <div id=\"ac48c004-812e-46b9-8dba-80d9679b6d3e\" class=\"plotly-graph-div\" style=\"height:525px; width:100%;\"></div>\n",
       "            <script type=\"text/javascript\">\n",
       "                require([\"plotly\"], function(Plotly) {\n",
       "                    window.PLOTLYENV=window.PLOTLYENV || {};\n",
       "                    window.PLOTLYENV.BASE_URL='https://plot.ly';\n",
       "                    \n",
       "                if (document.getElementById(\"ac48c004-812e-46b9-8dba-80d9679b6d3e\")) {\n",
       "                    Plotly.newPlot(\n",
       "                        'ac48c004-812e-46b9-8dba-80d9679b6d3e',\n",
       "                        [{\"colorscale\": [[0.0, \"rgb(247,251,255)\"], [0.125, \"rgb(222,235,247)\"], [0.25, \"rgb(198,219,239)\"], [0.375, \"rgb(158,202,225)\"], [0.5, \"rgb(107,174,214)\"], [0.625, \"rgb(66,146,198)\"], [0.75, \"rgb(33,113,181)\"], [0.875, \"rgb(8,81,156)\"], [1.0, \"rgb(8,48,107)\"]], \"type\": \"heatmap\", \"x\": [\"BALANCE\", \"BALANCE_FREQUENCY\", \"PURCHASES\", \"ONEOFF_PURCHASES\", \"INSTALLMENTS_PURCHASES\", \"CASH_ADVANCE\", \"PURCHASES_FREQUENCY\", \"ONEOFF_PURCHASES_FREQUENCY\", \"PURCHASES_INSTALLMENTS_FREQUENCY\", \"CASH_ADVANCE_FREQUENCY\", \"CASH_ADVANCE_TRX\", \"PURCHASES_TRX\", \"CREDIT_LIMIT\", \"PAYMENTS\", \"MINIMUM_PAYMENTS\", \"PRC_FULL_PAYMENT\", \"TENURE\"], \"y\": [\"BALANCE\", \"BALANCE_FREQUENCY\", \"PURCHASES\", \"ONEOFF_PURCHASES\", \"INSTALLMENTS_PURCHASES\", \"CASH_ADVANCE\", \"PURCHASES_FREQUENCY\", \"ONEOFF_PURCHASES_FREQUENCY\", \"PURCHASES_INSTALLMENTS_FREQUENCY\", \"CASH_ADVANCE_FREQUENCY\", \"CASH_ADVANCE_TRX\", \"PURCHASES_TRX\", \"CREDIT_LIMIT\", \"PAYMENTS\", \"MINIMUM_PAYMENTS\", \"PRC_FULL_PAYMENT\", \"TENURE\"], \"z\": [[1.0, 0.31014045208567703, 0.17608308856119267, 0.15998462233135352, 0.12210871802330799, 0.495585620743423, -0.08845943918260868, 0.06383163346042926, -0.06958198656198095, 0.445307159785649, 0.38238844579153225, 0.14788721236978042, 0.5355181769398333, 0.32283000204734263, 0.3986689195338599, -0.33359377818008046, 0.06698708795722633], [0.31014045208567703, 1.0, 0.12263474755434782, 0.09525420784944501, 0.1147390394948519, 0.08903584855613236, 0.2281580171380641, 0.18746741768659955, 0.18415943873734955, 0.18113215557296788, 0.13326522446773878, 0.1830947127678604, 0.08768229019187654, 0.03916909514652182, 0.13251924600931425, -0.15696080288239797, 0.10471440897432303], [0.17608308856119267, 0.12263474755434782, 1.0, 0.9167802242554735, 0.679258896652998, -0.053760221004655315, 0.3929996912365039, 0.4973840666607059, 0.31602493015504646, -0.12486256249891206, -0.07027722776542114, 0.6887316093441338, 0.3584254001649606, 0.6067823607257229, 0.0938420000240443, 0.1764472177169539, 0.0845451851935757], [0.15998462233135352, 0.09525420784944501, 0.9167802242554735, 1.0, 0.32964962790578606, -0.033244357141670844, 0.2654604833897602, 0.524514060273825, 0.12837980683401193, -0.08641310618762203, -0.04870521447411463, 0.5453126692974534, 0.3206134509509604, 0.5708503450970259, 0.04874124063531785, 0.12988996686475815, 0.06339985996166683], [0.12210871802330799, 0.1147390394948519, 0.679258896652998, 0.32964962790578606, 1.0, -0.06609906907431336, 0.44119344019322165, 0.21182881221553224, 0.5111303006995004, -0.1364548113493059, -0.07671580247195621, 0.626082540455622, 0.2580574927494678, 0.3853911836213621, 0.1321557865911268, 0.17843958601394735, 0.08334566756392965], [0.495585620743423, 0.08903584855613236, -0.053760221004655315, -0.033244357141670844, -0.06609906907431336, 1.0, -0.21856648042585874, -0.09011083278887237, -0.17887343049317075, 0.6290302541257783, 0.6569114701173954, -0.07844867568470788, 0.30416069418073394, 0.45934244173674393, 0.14009386898917056, -0.15856634313855392, -0.07308979424179618], [-0.08845943918260868, 0.2281580171380641, 0.3929996912365039, 0.2654604833897602, 0.44119344019322165, -0.21856648042585874, 1.0, 0.5021232684816977, 0.8623379116139267, -0.31677071791087374, -0.20874915899593754, 0.5671682585433673, 0.12137198824215636, 0.10071517464689404, 0.0029787151114887317, 0.30539330931820685, 0.05216082018407326], [0.06383163346042926, 0.18746741768659955, 0.4973840666607059, 0.524514060273825, 0.21182881221553224, -0.09011083278887237, 0.5021232684816977, 1.0, 0.1439112742543264, -0.11822491034570548, -0.07338371590147305, 0.5443641904797117, 0.29543233530324425, 0.24434588309841787, -0.030356500940456763, 0.15407317013250613, 0.08043719998930599], [-0.06958198656198095, 0.18415943873734955, 0.31602493015504646, 0.12837980683401193, 0.5111303006995004, -0.17887343049317075, 0.8623379116139267, 0.1439112742543264, 1.0, -0.2689239612692933, -0.17281089956875834, 0.5291915591651051, 0.06342087713267926, 0.083424121951666, 0.030036248197487597, 0.24954658975156657, 0.06577934944512143], [0.445307159785649, 0.18113215557296788, -0.12486256249891206, -0.08641310618762203, -0.1364548113493059, 0.6290302541257783, -0.31677071791087374, -0.11822491034570548, -0.2689239612692933, 1.0, 0.7995928545854557, -0.13691325731718573, 0.1328405898517304, 0.18233951464470669, 0.09884446164123437, -0.26000117241758974, -0.1400376202424462], [0.38238844579153225, 0.13326522446773878, -0.07027722776542114, -0.04870521447411463, -0.07671580247195621, 0.6569114701173954, -0.20874915899593754, -0.07338371590147305, -0.17281089956875834, 0.7995928545854557, 1.0, -0.06987920359449375, 0.15026108735079205, 0.2559214276852045, 0.10972696820728675, -0.176574137226065, -0.045350102414184204], [0.14788721236978042, 0.1830947127678604, 0.6887316093441338, 0.5453126692974534, 0.626082540455622, -0.07844867568470788, 0.5671682585433673, 0.5443641904797117, 0.5291915591651051, -0.13691325731718573, -0.06987920359449375, 1.0, 0.2737151038048494, 0.3714773914936534, 0.09631067568643956, 0.15678886884270152, 0.11888947235964824], [0.5355181769398333, 0.08768229019187654, 0.3584254001649606, 0.3206134509509604, 0.2580574927494678, 0.30416069418073394, 0.12137198824215636, 0.29543233530324425, 0.06342087713267926, 0.1328405898517304, 0.15026108735079205, 0.2737151038048494, 1.0, 0.42695138714545106, 0.12667094627123457, 0.052577915453765105, 0.1364638180231508], [0.32283000204734263, 0.03916909514652182, 0.6067823607257229, 0.5708503450970259, 0.3853911836213621, 0.45934244173674393, 0.10071517464689404, 0.24434588309841787, 0.083424121951666, 0.18233951464470669, 0.2559214276852045, 0.3714773914936534, 0.42695138714545106, 1.0, 0.12662950481333798, 0.10466810198262377, 0.1029858004552009], [0.3986689195338599, 0.13251924600931425, 0.0938420000240443, 0.04874124063531785, 0.1321557865911268, 0.14009386898917056, 0.0029787151114887317, -0.030356500940456763, 0.030036248197487597, 0.09884446164123437, 0.10972696820728675, 0.09631067568643956, 0.12667094627123457, 0.12662950481333798, 1.0, -0.14040420688698046, 0.05933030437500164], [-0.33359377818008046, -0.15696080288239797, 0.1764472177169539, 0.12988996686475815, 0.17843958601394735, -0.15856634313855392, 0.30539330931820685, 0.15407317013250613, 0.24954658975156657, -0.26000117241758974, -0.176574137226065, 0.15678886884270152, 0.052577915453765105, 0.10466810198262377, -0.14040420688698046, 1.0, -0.024222596404343766], [0.06698708795722633, 0.10471440897432303, 0.0845451851935757, 0.06339985996166683, 0.08334566756392965, -0.07308979424179618, 0.05216082018407326, 0.08043719998930599, 0.06577934944512143, -0.1400376202424462, -0.045350102414184204, 0.11888947235964824, 0.1364638180231508, 0.1029858004552009, 0.05933030437500164, -0.024222596404343766, 1.0]], \"zmax\": 1.0, \"zmin\": -0.33359377818008046}],\n",
       "                        {\"legend\": {\"bgcolor\": \"#F5F6F9\", \"font\": {\"color\": \"#4D5663\"}}, \"paper_bgcolor\": \"#F5F6F9\", \"plot_bgcolor\": \"#F5F6F9\", \"template\": {\"data\": {\"bar\": [{\"error_x\": {\"color\": \"#2a3f5f\"}, \"error_y\": {\"color\": \"#2a3f5f\"}, \"marker\": {\"line\": {\"color\": \"#E5ECF6\", \"width\": 0.5}}, \"type\": \"bar\"}], \"barpolar\": [{\"marker\": {\"line\": {\"color\": \"#E5ECF6\", \"width\": 0.5}}, \"type\": \"barpolar\"}], \"carpet\": [{\"aaxis\": {\"endlinecolor\": \"#2a3f5f\", \"gridcolor\": \"white\", \"linecolor\": \"white\", \"minorgridcolor\": \"white\", \"startlinecolor\": \"#2a3f5f\"}, \"baxis\": {\"endlinecolor\": \"#2a3f5f\", \"gridcolor\": \"white\", \"linecolor\": \"white\", \"minorgridcolor\": \"white\", \"startlinecolor\": \"#2a3f5f\"}, \"type\": \"carpet\"}], \"choropleth\": [{\"colorbar\": {\"outlinewidth\": 0, \"ticks\": \"\"}, \"type\": \"choropleth\"}], \"contour\": [{\"colorbar\": {\"outlinewidth\": 0, \"ticks\": \"\"}, \"colorscale\": [[0.0, \"#0d0887\"], [0.1111111111111111, \"#46039f\"], [0.2222222222222222, \"#7201a8\"], [0.3333333333333333, \"#9c179e\"], [0.4444444444444444, \"#bd3786\"], [0.5555555555555556, \"#d8576b\"], [0.6666666666666666, \"#ed7953\"], [0.7777777777777778, \"#fb9f3a\"], [0.8888888888888888, \"#fdca26\"], [1.0, \"#f0f921\"]], \"type\": \"contour\"}], \"contourcarpet\": [{\"colorbar\": {\"outlinewidth\": 0, \"ticks\": \"\"}, \"type\": \"contourcarpet\"}], \"heatmap\": [{\"colorbar\": {\"outlinewidth\": 0, \"ticks\": \"\"}, \"colorscale\": [[0.0, \"#0d0887\"], [0.1111111111111111, \"#46039f\"], [0.2222222222222222, \"#7201a8\"], [0.3333333333333333, \"#9c179e\"], [0.4444444444444444, \"#bd3786\"], [0.5555555555555556, \"#d8576b\"], [0.6666666666666666, \"#ed7953\"], [0.7777777777777778, \"#fb9f3a\"], [0.8888888888888888, \"#fdca26\"], [1.0, \"#f0f921\"]], \"type\": \"heatmap\"}], \"heatmapgl\": [{\"colorbar\": {\"outlinewidth\": 0, \"ticks\": \"\"}, \"colorscale\": [[0.0, \"#0d0887\"], [0.1111111111111111, \"#46039f\"], [0.2222222222222222, \"#7201a8\"], [0.3333333333333333, \"#9c179e\"], [0.4444444444444444, \"#bd3786\"], [0.5555555555555556, \"#d8576b\"], [0.6666666666666666, \"#ed7953\"], [0.7777777777777778, \"#fb9f3a\"], [0.8888888888888888, \"#fdca26\"], [1.0, \"#f0f921\"]], \"type\": \"heatmapgl\"}], \"histogram\": [{\"marker\": {\"colorbar\": {\"outlinewidth\": 0, \"ticks\": \"\"}}, \"type\": \"histogram\"}], \"histogram2d\": [{\"colorbar\": {\"outlinewidth\": 0, \"ticks\": \"\"}, \"colorscale\": [[0.0, \"#0d0887\"], [0.1111111111111111, \"#46039f\"], [0.2222222222222222, \"#7201a8\"], [0.3333333333333333, \"#9c179e\"], [0.4444444444444444, \"#bd3786\"], [0.5555555555555556, \"#d8576b\"], [0.6666666666666666, \"#ed7953\"], [0.7777777777777778, \"#fb9f3a\"], [0.8888888888888888, \"#fdca26\"], [1.0, \"#f0f921\"]], \"type\": \"histogram2d\"}], \"histogram2dcontour\": [{\"colorbar\": {\"outlinewidth\": 0, \"ticks\": \"\"}, \"colorscale\": [[0.0, \"#0d0887\"], [0.1111111111111111, \"#46039f\"], [0.2222222222222222, \"#7201a8\"], [0.3333333333333333, \"#9c179e\"], [0.4444444444444444, \"#bd3786\"], [0.5555555555555556, \"#d8576b\"], [0.6666666666666666, \"#ed7953\"], [0.7777777777777778, \"#fb9f3a\"], [0.8888888888888888, \"#fdca26\"], [1.0, \"#f0f921\"]], \"type\": \"histogram2dcontour\"}], \"mesh3d\": [{\"colorbar\": {\"outlinewidth\": 0, \"ticks\": \"\"}, \"type\": \"mesh3d\"}], \"parcoords\": [{\"line\": {\"colorbar\": {\"outlinewidth\": 0, \"ticks\": \"\"}}, \"type\": \"parcoords\"}], \"pie\": [{\"automargin\": true, \"type\": \"pie\"}], \"scatter\": [{\"marker\": {\"colorbar\": {\"outlinewidth\": 0, \"ticks\": \"\"}}, \"type\": \"scatter\"}], \"scatter3d\": [{\"line\": {\"colorbar\": {\"outlinewidth\": 0, \"ticks\": \"\"}}, \"marker\": {\"colorbar\": {\"outlinewidth\": 0, \"ticks\": \"\"}}, \"type\": \"scatter3d\"}], \"scattercarpet\": [{\"marker\": {\"colorbar\": {\"outlinewidth\": 0, \"ticks\": \"\"}}, \"type\": \"scattercarpet\"}], \"scattergeo\": [{\"marker\": {\"colorbar\": {\"outlinewidth\": 0, \"ticks\": \"\"}}, \"type\": \"scattergeo\"}], \"scattergl\": [{\"marker\": {\"colorbar\": {\"outlinewidth\": 0, \"ticks\": \"\"}}, \"type\": \"scattergl\"}], \"scattermapbox\": [{\"marker\": {\"colorbar\": {\"outlinewidth\": 0, \"ticks\": \"\"}}, \"type\": \"scattermapbox\"}], \"scatterpolar\": [{\"marker\": {\"colorbar\": {\"outlinewidth\": 0, \"ticks\": \"\"}}, \"type\": \"scatterpolar\"}], \"scatterpolargl\": [{\"marker\": {\"colorbar\": {\"outlinewidth\": 0, \"ticks\": \"\"}}, \"type\": \"scatterpolargl\"}], \"scatterternary\": [{\"marker\": {\"colorbar\": {\"outlinewidth\": 0, \"ticks\": \"\"}}, \"type\": \"scatterternary\"}], \"surface\": [{\"colorbar\": {\"outlinewidth\": 0, \"ticks\": \"\"}, \"colorscale\": [[0.0, \"#0d0887\"], [0.1111111111111111, \"#46039f\"], [0.2222222222222222, \"#7201a8\"], [0.3333333333333333, \"#9c179e\"], [0.4444444444444444, \"#bd3786\"], [0.5555555555555556, \"#d8576b\"], [0.6666666666666666, \"#ed7953\"], [0.7777777777777778, \"#fb9f3a\"], [0.8888888888888888, \"#fdca26\"], [1.0, \"#f0f921\"]], \"type\": \"surface\"}], \"table\": [{\"cells\": {\"fill\": {\"color\": \"#EBF0F8\"}, \"line\": {\"color\": \"white\"}}, \"header\": {\"fill\": {\"color\": \"#C8D4E3\"}, \"line\": {\"color\": \"white\"}}, \"type\": \"table\"}]}, \"layout\": {\"annotationdefaults\": {\"arrowcolor\": \"#2a3f5f\", \"arrowhead\": 0, \"arrowwidth\": 1}, \"coloraxis\": {\"colorbar\": {\"outlinewidth\": 0, \"ticks\": \"\"}}, \"colorscale\": {\"diverging\": [[0, \"#8e0152\"], [0.1, \"#c51b7d\"], [0.2, \"#de77ae\"], [0.3, \"#f1b6da\"], [0.4, \"#fde0ef\"], [0.5, \"#f7f7f7\"], [0.6, \"#e6f5d0\"], [0.7, \"#b8e186\"], [0.8, \"#7fbc41\"], [0.9, \"#4d9221\"], [1, \"#276419\"]], \"sequential\": [[0.0, \"#0d0887\"], [0.1111111111111111, \"#46039f\"], [0.2222222222222222, \"#7201a8\"], [0.3333333333333333, \"#9c179e\"], [0.4444444444444444, \"#bd3786\"], [0.5555555555555556, \"#d8576b\"], [0.6666666666666666, \"#ed7953\"], [0.7777777777777778, \"#fb9f3a\"], [0.8888888888888888, \"#fdca26\"], [1.0, \"#f0f921\"]], \"sequentialminus\": [[0.0, \"#0d0887\"], [0.1111111111111111, \"#46039f\"], [0.2222222222222222, \"#7201a8\"], [0.3333333333333333, \"#9c179e\"], [0.4444444444444444, \"#bd3786\"], [0.5555555555555556, \"#d8576b\"], [0.6666666666666666, \"#ed7953\"], [0.7777777777777778, \"#fb9f3a\"], [0.8888888888888888, \"#fdca26\"], [1.0, \"#f0f921\"]]}, \"colorway\": [\"#636efa\", \"#EF553B\", \"#00cc96\", \"#ab63fa\", \"#FFA15A\", \"#19d3f3\", \"#FF6692\", \"#B6E880\", \"#FF97FF\", \"#FECB52\"], \"font\": {\"color\": \"#2a3f5f\"}, \"geo\": {\"bgcolor\": \"white\", \"lakecolor\": \"white\", \"landcolor\": \"#E5ECF6\", \"showlakes\": true, \"showland\": true, \"subunitcolor\": \"white\"}, \"hoverlabel\": {\"align\": \"left\"}, \"hovermode\": \"closest\", \"mapbox\": {\"style\": \"light\"}, \"paper_bgcolor\": \"white\", \"plot_bgcolor\": \"#E5ECF6\", \"polar\": {\"angularaxis\": {\"gridcolor\": \"white\", \"linecolor\": \"white\", \"ticks\": \"\"}, \"bgcolor\": \"#E5ECF6\", \"radialaxis\": {\"gridcolor\": \"white\", \"linecolor\": \"white\", \"ticks\": \"\"}}, \"scene\": {\"xaxis\": {\"backgroundcolor\": \"#E5ECF6\", \"gridcolor\": \"white\", \"gridwidth\": 2, \"linecolor\": \"white\", \"showbackground\": true, \"ticks\": \"\", \"zerolinecolor\": \"white\"}, \"yaxis\": {\"backgroundcolor\": \"#E5ECF6\", \"gridcolor\": \"white\", \"gridwidth\": 2, \"linecolor\": \"white\", \"showbackground\": true, \"ticks\": \"\", \"zerolinecolor\": \"white\"}, \"zaxis\": {\"backgroundcolor\": \"#E5ECF6\", \"gridcolor\": \"white\", \"gridwidth\": 2, \"linecolor\": \"white\", \"showbackground\": true, \"ticks\": \"\", \"zerolinecolor\": \"white\"}}, \"shapedefaults\": {\"line\": {\"color\": \"#2a3f5f\"}}, \"ternary\": {\"aaxis\": {\"gridcolor\": \"white\", \"linecolor\": \"white\", \"ticks\": \"\"}, \"baxis\": {\"gridcolor\": \"white\", \"linecolor\": \"white\", \"ticks\": \"\"}, \"bgcolor\": \"#E5ECF6\", \"caxis\": {\"gridcolor\": \"white\", \"linecolor\": \"white\", \"ticks\": \"\"}}, \"title\": {\"x\": 0.05}, \"xaxis\": {\"automargin\": true, \"gridcolor\": \"white\", \"linecolor\": \"white\", \"ticks\": \"\", \"title\": {\"standoff\": 15}, \"zerolinecolor\": \"white\", \"zerolinewidth\": 2}, \"yaxis\": {\"automargin\": true, \"gridcolor\": \"white\", \"linecolor\": \"white\", \"ticks\": \"\", \"title\": {\"standoff\": 15}, \"zerolinecolor\": \"white\", \"zerolinewidth\": 2}}}, \"title\": {\"font\": {\"color\": \"#4D5663\"}, \"text\": \"Feature Correlation Matrix\"}, \"xaxis\": {\"gridcolor\": \"#E1E5ED\", \"showgrid\": true, \"tickfont\": {\"color\": \"#4D5663\"}, \"title\": {\"font\": {\"color\": \"#4D5663\"}, \"text\": \"\"}, \"zerolinecolor\": \"#E1E5ED\"}, \"yaxis\": {\"gridcolor\": \"#E1E5ED\", \"showgrid\": true, \"tickfont\": {\"color\": \"#4D5663\"}, \"title\": {\"font\": {\"color\": \"#4D5663\"}, \"text\": \"\"}, \"zerolinecolor\": \"#E1E5ED\"}},\n",
       "                        {\"showLink\": true, \"linkText\": \"Export to plot.ly\", \"plotlyServerURL\": \"https://plot.ly\", \"responsive\": true}\n",
       "                    ).then(function(){\n",
       "                            \n",
       "var gd = document.getElementById('ac48c004-812e-46b9-8dba-80d9679b6d3e');\n",
       "var x = new MutationObserver(function (mutations, observer) {{\n",
       "        var display = window.getComputedStyle(gd).display;\n",
       "        if (!display || display === 'none') {{\n",
       "            console.log([gd, 'removed!']);\n",
       "            Plotly.purge(gd);\n",
       "            observer.disconnect();\n",
       "        }}\n",
       "}});\n",
       "\n",
       "// Listen for the removal of the full notebook cells\n",
       "var notebookContainer = gd.closest('#notebook-container');\n",
       "if (notebookContainer) {{\n",
       "    x.observe(notebookContainer, {childList: true});\n",
       "}}\n",
       "\n",
       "// Listen for the clearing of the current output cell\n",
       "var outputEl = gd.closest('.output');\n",
       "if (outputEl) {{\n",
       "    x.observe(outputEl, {childList: true});\n",
       "}}\n",
       "\n",
       "                        })\n",
       "                };\n",
       "                });\n",
       "            </script>\n",
       "        </div>"
      ]
     },
     "metadata": {},
     "output_type": "display_data"
    }
   ],
   "source": [
    "df.corr().iplot(kind='heatmap',colorscale=\"Blues\",title=\"Feature Correlation Matrix\")"
   ]
  },
  {
   "cell_type": "code",
   "execution_count": 38,
   "metadata": {},
   "outputs": [],
   "source": [
    "df.drop(['CUST_ID'],axis = 1 , inplace = True)"
   ]
  },
  {
   "cell_type": "code",
   "execution_count": 44,
   "metadata": {},
   "outputs": [
    {
     "data": {
      "text/html": [
       "<div>\n",
       "<style scoped>\n",
       "    .dataframe tbody tr th:only-of-type {\n",
       "        vertical-align: middle;\n",
       "    }\n",
       "\n",
       "    .dataframe tbody tr th {\n",
       "        vertical-align: top;\n",
       "    }\n",
       "\n",
       "    .dataframe thead th {\n",
       "        text-align: right;\n",
       "    }\n",
       "</style>\n",
       "<table border=\"1\" class=\"dataframe\">\n",
       "  <thead>\n",
       "    <tr style=\"text-align: right;\">\n",
       "      <th></th>\n",
       "      <th>BALANCE</th>\n",
       "      <th>BALANCE_FREQUENCY</th>\n",
       "      <th>PURCHASES</th>\n",
       "      <th>ONEOFF_PURCHASES</th>\n",
       "      <th>INSTALLMENTS_PURCHASES</th>\n",
       "      <th>CASH_ADVANCE</th>\n",
       "      <th>PURCHASES_FREQUENCY</th>\n",
       "      <th>ONEOFF_PURCHASES_FREQUENCY</th>\n",
       "      <th>PURCHASES_INSTALLMENTS_FREQUENCY</th>\n",
       "      <th>CASH_ADVANCE_FREQUENCY</th>\n",
       "      <th>CASH_ADVANCE_TRX</th>\n",
       "      <th>PURCHASES_TRX</th>\n",
       "      <th>CREDIT_LIMIT</th>\n",
       "      <th>PAYMENTS</th>\n",
       "      <th>MINIMUM_PAYMENTS</th>\n",
       "      <th>PRC_FULL_PAYMENT</th>\n",
       "      <th>TENURE</th>\n",
       "    </tr>\n",
       "  </thead>\n",
       "  <tbody>\n",
       "    <tr>\n",
       "      <th>0</th>\n",
       "      <td>0.039353</td>\n",
       "      <td>0.000787</td>\n",
       "      <td>0.091790</td>\n",
       "      <td>0.000000</td>\n",
       "      <td>0.091790</td>\n",
       "      <td>0.00000</td>\n",
       "      <td>0.000160</td>\n",
       "      <td>0.000000</td>\n",
       "      <td>0.000080</td>\n",
       "      <td>0.000000</td>\n",
       "      <td>0.000000</td>\n",
       "      <td>0.001924</td>\n",
       "      <td>0.962156</td>\n",
       "      <td>0.194165</td>\n",
       "      <td>0.134230</td>\n",
       "      <td>0.00000</td>\n",
       "      <td>0.011546</td>\n",
       "    </tr>\n",
       "    <tr>\n",
       "      <th>1</th>\n",
       "      <td>0.293876</td>\n",
       "      <td>0.000083</td>\n",
       "      <td>0.000000</td>\n",
       "      <td>0.000000</td>\n",
       "      <td>0.000000</td>\n",
       "      <td>0.59124</td>\n",
       "      <td>0.000000</td>\n",
       "      <td>0.000000</td>\n",
       "      <td>0.000000</td>\n",
       "      <td>0.000023</td>\n",
       "      <td>0.000367</td>\n",
       "      <td>0.000000</td>\n",
       "      <td>0.642358</td>\n",
       "      <td>0.376516</td>\n",
       "      <td>0.098404</td>\n",
       "      <td>0.00002</td>\n",
       "      <td>0.001101</td>\n",
       "    </tr>\n",
       "    <tr>\n",
       "      <th>2</th>\n",
       "      <td>0.310798</td>\n",
       "      <td>0.000125</td>\n",
       "      <td>0.096307</td>\n",
       "      <td>0.096307</td>\n",
       "      <td>0.000000</td>\n",
       "      <td>0.00000</td>\n",
       "      <td>0.000125</td>\n",
       "      <td>0.000125</td>\n",
       "      <td>0.000000</td>\n",
       "      <td>0.000000</td>\n",
       "      <td>0.000000</td>\n",
       "      <td>0.001495</td>\n",
       "      <td>0.934206</td>\n",
       "      <td>0.077485</td>\n",
       "      <td>0.078135</td>\n",
       "      <td>0.00000</td>\n",
       "      <td>0.001495</td>\n",
       "    </tr>\n",
       "    <tr>\n",
       "      <th>3</th>\n",
       "      <td>0.504284</td>\n",
       "      <td>0.000617</td>\n",
       "      <td>0.009867</td>\n",
       "      <td>0.009867</td>\n",
       "      <td>0.000000</td>\n",
       "      <td>0.00000</td>\n",
       "      <td>0.000051</td>\n",
       "      <td>0.000051</td>\n",
       "      <td>0.000000</td>\n",
       "      <td>0.000000</td>\n",
       "      <td>0.000000</td>\n",
       "      <td>0.000617</td>\n",
       "      <td>0.740040</td>\n",
       "      <td>0.418329</td>\n",
       "      <td>0.150963</td>\n",
       "      <td>0.00000</td>\n",
       "      <td>0.007400</td>\n",
       "    </tr>\n",
       "    <tr>\n",
       "      <th>4</th>\n",
       "      <td>0.428658</td>\n",
       "      <td>0.000237</td>\n",
       "      <td>0.315788</td>\n",
       "      <td>0.000000</td>\n",
       "      <td>0.315788</td>\n",
       "      <td>0.00000</td>\n",
       "      <td>0.000158</td>\n",
       "      <td>0.000000</td>\n",
       "      <td>0.000138</td>\n",
       "      <td>0.000000</td>\n",
       "      <td>0.000000</td>\n",
       "      <td>0.001895</td>\n",
       "      <td>0.426330</td>\n",
       "      <td>0.331604</td>\n",
       "      <td>0.570156</td>\n",
       "      <td>0.00000</td>\n",
       "      <td>0.002842</td>\n",
       "    </tr>\n",
       "  </tbody>\n",
       "</table>\n",
       "</div>"
      ],
      "text/plain": [
       "    BALANCE  BALANCE_FREQUENCY  PURCHASES  ONEOFF_PURCHASES  \\\n",
       "0  0.039353           0.000787   0.091790          0.000000   \n",
       "1  0.293876           0.000083   0.000000          0.000000   \n",
       "2  0.310798           0.000125   0.096307          0.096307   \n",
       "3  0.504284           0.000617   0.009867          0.009867   \n",
       "4  0.428658           0.000237   0.315788          0.000000   \n",
       "\n",
       "   INSTALLMENTS_PURCHASES  CASH_ADVANCE  PURCHASES_FREQUENCY  \\\n",
       "0                0.091790       0.00000             0.000160   \n",
       "1                0.000000       0.59124             0.000000   \n",
       "2                0.000000       0.00000             0.000125   \n",
       "3                0.000000       0.00000             0.000051   \n",
       "4                0.315788       0.00000             0.000158   \n",
       "\n",
       "   ONEOFF_PURCHASES_FREQUENCY  PURCHASES_INSTALLMENTS_FREQUENCY  \\\n",
       "0                    0.000000                          0.000080   \n",
       "1                    0.000000                          0.000000   \n",
       "2                    0.000125                          0.000000   \n",
       "3                    0.000051                          0.000000   \n",
       "4                    0.000000                          0.000138   \n",
       "\n",
       "   CASH_ADVANCE_FREQUENCY  CASH_ADVANCE_TRX  PURCHASES_TRX  CREDIT_LIMIT  \\\n",
       "0                0.000000          0.000000       0.001924      0.962156   \n",
       "1                0.000023          0.000367       0.000000      0.642358   \n",
       "2                0.000000          0.000000       0.001495      0.934206   \n",
       "3                0.000000          0.000000       0.000617      0.740040   \n",
       "4                0.000000          0.000000       0.001895      0.426330   \n",
       "\n",
       "   PAYMENTS  MINIMUM_PAYMENTS  PRC_FULL_PAYMENT    TENURE  \n",
       "0  0.194165          0.134230           0.00000  0.011546  \n",
       "1  0.376516          0.098404           0.00002  0.001101  \n",
       "2  0.077485          0.078135           0.00000  0.001495  \n",
       "3  0.418329          0.150963           0.00000  0.007400  \n",
       "4  0.331604          0.570156           0.00000  0.002842  "
      ]
     },
     "execution_count": 44,
     "metadata": {},
     "output_type": "execute_result"
    }
   ],
   "source": [
    "from sklearn.preprocessing import normalize\n",
    "data_scaled = normalize(df)\n",
    "data_scaled = pd.DataFrame(data_scaled, columns=df.columns)\n",
    "data_scaled.head()"
   ]
  },
  {
   "cell_type": "markdown",
   "metadata": {},
   "source": [
    "# Hierarchical Clustering based on euclidean distance among the samples"
   ]
  },
  {
   "cell_type": "code",
   "execution_count": 46,
   "metadata": {},
   "outputs": [
    {
     "data": {
      "image/png": "[encoded data removed]",
      "text/plain": [
       "<Figure size 720x504 with 1 Axes>"
      ]
     },
     "metadata": {
      "needs_background": "light"
     },
     "output_type": "display_data"
    }
   ],
   "source": [
    "import scipy.cluster.hierarchy as shc\n",
    "import matplotlib.pyplot as plt\n",
    "plt.figure(figsize=(10, 7))  \n",
    "plt.title(\"Dendrograms\")  \n",
    "dend = shc.dendrogram(shc.linkage(data_scaled, method='ward'))"
   ]
  },
  {
   "cell_type": "markdown",
   "metadata": {},
   "source": [
    "Chose 3 clusters from the dendrogram. Check the characteristics of each cluster"
   ]
  },
  {
   "cell_type": "code",
   "execution_count": 63,
   "metadata": {},
   "outputs": [],
   "source": [
    "from sklearn.cluster import AgglomerativeClustering\n",
    "cluster = AgglomerativeClustering(n_clusters=3, affinity='euclidean', linkage='ward')  \n",
    "predict = cluster.fit_predict(data_scaled)"
   ]
  },
  {
   "cell_type": "code",
   "execution_count": 64,
   "metadata": {},
   "outputs": [
    {
     "data": {
      "text/plain": [
       "<matplotlib.collections.PathCollection at 0x124d3cf10>"
      ]
     },
     "execution_count": 64,
     "metadata": {},
     "output_type": "execute_result"
    },
    {
     "data": {
      "image/png": "[encoded data removed]",
      "text/plain": [
       "<Figure size 720x504 with 1 Axes>"
      ]
     },
     "metadata": {
      "needs_background": "light"
     },
     "output_type": "display_data"
    }
   ],
   "source": [
    "plt.figure(figsize=(10, 7))  \n",
    "plt.scatter(data_scaled['PURCHASES'], data_scaled['CASH_ADVANCE'], c=cluster.labels_) "
   ]
  },
  {
   "cell_type": "code",
   "execution_count": 54,
   "metadata": {},
   "outputs": [],
   "source": [
    "data_scaled['cluster_idx'] = predict"
   ]
  },
  {
   "cell_type": "code",
   "execution_count": 65,
   "metadata": {},
   "outputs": [],
   "source": [
    "cluster0 = data_scaled[data_scaled['cluster_idx']==0]\n",
    "cluster1 = data_scaled[data_scaled['cluster_idx']==1]\n",
    "cluster2 = data_scaled[data_scaled['cluster_idx']==2]"
   ]
  },
  {
   "cell_type": "code",
   "execution_count": 66,
   "metadata": {},
   "outputs": [
    {
     "data": {
      "text/html": [
       "<div>\n",
       "<style scoped>\n",
       "    .dataframe tbody tr th:only-of-type {\n",
       "        vertical-align: middle;\n",
       "    }\n",
       "\n",
       "    .dataframe tbody tr th {\n",
       "        vertical-align: top;\n",
       "    }\n",
       "\n",
       "    .dataframe thead th {\n",
       "        text-align: right;\n",
       "    }\n",
       "</style>\n",
       "<table border=\"1\" class=\"dataframe\">\n",
       "  <thead>\n",
       "    <tr style=\"text-align: right;\">\n",
       "      <th></th>\n",
       "      <th>BALANCE</th>\n",
       "      <th>BALANCE_FREQUENCY</th>\n",
       "      <th>PURCHASES</th>\n",
       "      <th>ONEOFF_PURCHASES</th>\n",
       "      <th>INSTALLMENTS_PURCHASES</th>\n",
       "      <th>CASH_ADVANCE</th>\n",
       "      <th>PURCHASES_FREQUENCY</th>\n",
       "      <th>ONEOFF_PURCHASES_FREQUENCY</th>\n",
       "      <th>PURCHASES_INSTALLMENTS_FREQUENCY</th>\n",
       "      <th>CASH_ADVANCE_FREQUENCY</th>\n",
       "      <th>CASH_ADVANCE_TRX</th>\n",
       "      <th>PURCHASES_TRX</th>\n",
       "      <th>CREDIT_LIMIT</th>\n",
       "      <th>PAYMENTS</th>\n",
       "      <th>MINIMUM_PAYMENTS</th>\n",
       "      <th>PRC_FULL_PAYMENT</th>\n",
       "      <th>TENURE</th>\n",
       "      <th>cluster_idx</th>\n",
       "    </tr>\n",
       "  </thead>\n",
       "  <tbody>\n",
       "    <tr>\n",
       "      <th>count</th>\n",
       "      <td>2504.000000</td>\n",
       "      <td>2504.000000</td>\n",
       "      <td>2504.000000</td>\n",
       "      <td>2504.000000</td>\n",
       "      <td>2504.000000</td>\n",
       "      <td>2504.000000</td>\n",
       "      <td>2504.000000</td>\n",
       "      <td>2504.000000</td>\n",
       "      <td>2504.000000</td>\n",
       "      <td>2504.000000</td>\n",
       "      <td>2504.000000</td>\n",
       "      <td>2504.000000</td>\n",
       "      <td>2504.000000</td>\n",
       "      <td>2504.000000</td>\n",
       "      <td>2504.000000</td>\n",
       "      <td>2504.000000</td>\n",
       "      <td>2504.000000</td>\n",
       "      <td>2504.0</td>\n",
       "    </tr>\n",
       "    <tr>\n",
       "      <th>mean</th>\n",
       "      <td>0.483763</td>\n",
       "      <td>0.000285</td>\n",
       "      <td>0.066185</td>\n",
       "      <td>0.025430</td>\n",
       "      <td>0.040839</td>\n",
       "      <td>0.252219</td>\n",
       "      <td>0.000078</td>\n",
       "      <td>0.000021</td>\n",
       "      <td>0.000059</td>\n",
       "      <td>0.000058</td>\n",
       "      <td>0.001177</td>\n",
       "      <td>0.001541</td>\n",
       "      <td>0.639283</td>\n",
       "      <td>0.192630</td>\n",
       "      <td>0.270762</td>\n",
       "      <td>0.000002</td>\n",
       "      <td>0.003363</td>\n",
       "      <td>0.0</td>\n",
       "    </tr>\n",
       "    <tr>\n",
       "      <th>std</th>\n",
       "      <td>0.159893</td>\n",
       "      <td>0.000231</td>\n",
       "      <td>0.099742</td>\n",
       "      <td>0.052982</td>\n",
       "      <td>0.084401</td>\n",
       "      <td>0.224360</td>\n",
       "      <td>0.000126</td>\n",
       "      <td>0.000048</td>\n",
       "      <td>0.000118</td>\n",
       "      <td>0.000073</td>\n",
       "      <td>0.001507</td>\n",
       "      <td>0.002905</td>\n",
       "      <td>0.149561</td>\n",
       "      <td>0.111907</td>\n",
       "      <td>0.214303</td>\n",
       "      <td>0.000014</td>\n",
       "      <td>0.002745</td>\n",
       "      <td>0.0</td>\n",
       "    </tr>\n",
       "    <tr>\n",
       "      <th>min</th>\n",
       "      <td>0.000895</td>\n",
       "      <td>0.000013</td>\n",
       "      <td>0.000000</td>\n",
       "      <td>0.000000</td>\n",
       "      <td>0.000000</td>\n",
       "      <td>0.000000</td>\n",
       "      <td>0.000000</td>\n",
       "      <td>0.000000</td>\n",
       "      <td>0.000000</td>\n",
       "      <td>0.000000</td>\n",
       "      <td>0.000000</td>\n",
       "      <td>0.000000</td>\n",
       "      <td>0.039140</td>\n",
       "      <td>0.000080</td>\n",
       "      <td>0.004531</td>\n",
       "      <td>0.000000</td>\n",
       "      <td>0.000153</td>\n",
       "      <td>0.0</td>\n",
       "    </tr>\n",
       "    <tr>\n",
       "      <th>25%</th>\n",
       "      <td>0.394370</td>\n",
       "      <td>0.000116</td>\n",
       "      <td>0.000000</td>\n",
       "      <td>0.000000</td>\n",
       "      <td>0.000000</td>\n",
       "      <td>0.030082</td>\n",
       "      <td>0.000000</td>\n",
       "      <td>0.000000</td>\n",
       "      <td>0.000000</td>\n",
       "      <td>0.000014</td>\n",
       "      <td>0.000238</td>\n",
       "      <td>0.000000</td>\n",
       "      <td>0.606154</td>\n",
       "      <td>0.121304</td>\n",
       "      <td>0.138417</td>\n",
       "      <td>0.000000</td>\n",
       "      <td>0.001373</td>\n",
       "      <td>0.0</td>\n",
       "    </tr>\n",
       "    <tr>\n",
       "      <th>50%</th>\n",
       "      <td>0.528089</td>\n",
       "      <td>0.000230</td>\n",
       "      <td>0.015154</td>\n",
       "      <td>0.000000</td>\n",
       "      <td>0.000000</td>\n",
       "      <td>0.219722</td>\n",
       "      <td>0.000019</td>\n",
       "      <td>0.000000</td>\n",
       "      <td>0.000000</td>\n",
       "      <td>0.000040</td>\n",
       "      <td>0.000742</td>\n",
       "      <td>0.000249</td>\n",
       "      <td>0.680408</td>\n",
       "      <td>0.165925</td>\n",
       "      <td>0.197329</td>\n",
       "      <td>0.000000</td>\n",
       "      <td>0.002708</td>\n",
       "      <td>0.0</td>\n",
       "    </tr>\n",
       "    <tr>\n",
       "      <th>75%</th>\n",
       "      <td>0.615782</td>\n",
       "      <td>0.000397</td>\n",
       "      <td>0.100659</td>\n",
       "      <td>0.027519</td>\n",
       "      <td>0.037491</td>\n",
       "      <td>0.443114</td>\n",
       "      <td>0.000102</td>\n",
       "      <td>0.000020</td>\n",
       "      <td>0.000064</td>\n",
       "      <td>0.000076</td>\n",
       "      <td>0.001560</td>\n",
       "      <td>0.001966</td>\n",
       "      <td>0.718918</td>\n",
       "      <td>0.247714</td>\n",
       "      <td>0.310022</td>\n",
       "      <td>0.000000</td>\n",
       "      <td>0.004661</td>\n",
       "      <td>0.0</td>\n",
       "    </tr>\n",
       "    <tr>\n",
       "      <th>max</th>\n",
       "      <td>0.693668</td>\n",
       "      <td>0.002914</td>\n",
       "      <td>0.574315</td>\n",
       "      <td>0.492853</td>\n",
       "      <td>0.507823</td>\n",
       "      <td>0.812681</td>\n",
       "      <td>0.000967</td>\n",
       "      <td>0.000568</td>\n",
       "      <td>0.000887</td>\n",
       "      <td>0.000912</td>\n",
       "      <td>0.022498</td>\n",
       "      <td>0.048366</td>\n",
       "      <td>0.901374</td>\n",
       "      <td>0.858603</td>\n",
       "      <td>0.994341</td>\n",
       "      <td>0.000321</td>\n",
       "      <td>0.038470</td>\n",
       "      <td>0.0</td>\n",
       "    </tr>\n",
       "  </tbody>\n",
       "</table>\n",
       "</div>"
      ],
      "text/plain": [
       "           BALANCE  BALANCE_FREQUENCY    PURCHASES  ONEOFF_PURCHASES  \\\n",
       "count  2504.000000        2504.000000  2504.000000       2504.000000   \n",
       "mean      0.483763           0.000285     0.066185          0.025430   \n",
       "std       0.159893           0.000231     0.099742          0.052982   \n",
       "min       0.000895           0.000013     0.000000          0.000000   \n",
       "25%       0.394370           0.000116     0.000000          0.000000   \n",
       "50%       0.528089           0.000230     0.015154          0.000000   \n",
       "75%       0.615782           0.000397     0.100659          0.027519   \n",
       "max       0.693668           0.002914     0.574315          0.492853   \n",
       "\n",
       "       INSTALLMENTS_PURCHASES  CASH_ADVANCE  PURCHASES_FREQUENCY  \\\n",
       "count             2504.000000   2504.000000          2504.000000   \n",
       "mean                 0.040839      0.252219             0.000078   \n",
       "std                  0.084401      0.224360             0.000126   \n",
       "min                  0.000000      0.000000             0.000000   \n",
       "25%                  0.000000      0.030082             0.000000   \n",
       "50%                  0.000000      0.219722             0.000019   \n",
       "75%                  0.037491      0.443114             0.000102   \n",
       "max                  0.507823      0.812681             0.000967   \n",
       "\n",
       "       ONEOFF_PURCHASES_FREQUENCY  PURCHASES_INSTALLMENTS_FREQUENCY  \\\n",
       "count                 2504.000000                       2504.000000   \n",
       "mean                     0.000021                          0.000059   \n",
       "std                      0.000048                          0.000118   \n",
       "min                      0.000000                          0.000000   \n",
       "25%                      0.000000                          0.000000   \n",
       "50%                      0.000000                          0.000000   \n",
       "75%                      0.000020                          0.000064   \n",
       "max                      0.000568                          0.000887   \n",
       "\n",
       "       CASH_ADVANCE_FREQUENCY  CASH_ADVANCE_TRX  PURCHASES_TRX  CREDIT_LIMIT  \\\n",
       "count             2504.000000       2504.000000    2504.000000   2504.000000   \n",
       "mean                 0.000058          0.001177       0.001541      0.639283   \n",
       "std                  0.000073          0.001507       0.002905      0.149561   \n",
       "min                  0.000000          0.000000       0.000000      0.039140   \n",
       "25%                  0.000014          0.000238       0.000000      0.606154   \n",
       "50%                  0.000040          0.000742       0.000249      0.680408   \n",
       "75%                  0.000076          0.001560       0.001966      0.718918   \n",
       "max                  0.000912          0.022498       0.048366      0.901374   \n",
       "\n",
       "          PAYMENTS  MINIMUM_PAYMENTS  PRC_FULL_PAYMENT       TENURE  \\\n",
       "count  2504.000000       2504.000000       2504.000000  2504.000000   \n",
       "mean      0.192630          0.270762          0.000002     0.003363   \n",
       "std       0.111907          0.214303          0.000014     0.002745   \n",
       "min       0.000080          0.004531          0.000000     0.000153   \n",
       "25%       0.121304          0.138417          0.000000     0.001373   \n",
       "50%       0.165925          0.197329          0.000000     0.002708   \n",
       "75%       0.247714          0.310022          0.000000     0.004661   \n",
       "max       0.858603          0.994341          0.000321     0.038470   \n",
       "\n",
       "       cluster_idx  \n",
       "count       2504.0  \n",
       "mean           0.0  \n",
       "std            0.0  \n",
       "min            0.0  \n",
       "25%            0.0  \n",
       "50%            0.0  \n",
       "75%            0.0  \n",
       "max            0.0  "
      ]
     },
     "execution_count": 66,
     "metadata": {},
     "output_type": "execute_result"
    }
   ],
   "source": [
    "cluster0.describe()"
   ]
  },
  {
   "cell_type": "code",
   "execution_count": 67,
   "metadata": {},
   "outputs": [
    {
     "data": {
      "text/html": [
       "<div>\n",
       "<style scoped>\n",
       "    .dataframe tbody tr th:only-of-type {\n",
       "        vertical-align: middle;\n",
       "    }\n",
       "\n",
       "    .dataframe tbody tr th {\n",
       "        vertical-align: top;\n",
       "    }\n",
       "\n",
       "    .dataframe thead th {\n",
       "        text-align: right;\n",
       "    }\n",
       "</style>\n",
       "<table border=\"1\" class=\"dataframe\">\n",
       "  <thead>\n",
       "    <tr style=\"text-align: right;\">\n",
       "      <th></th>\n",
       "      <th>BALANCE</th>\n",
       "      <th>BALANCE_FREQUENCY</th>\n",
       "      <th>PURCHASES</th>\n",
       "      <th>ONEOFF_PURCHASES</th>\n",
       "      <th>INSTALLMENTS_PURCHASES</th>\n",
       "      <th>CASH_ADVANCE</th>\n",
       "      <th>PURCHASES_FREQUENCY</th>\n",
       "      <th>ONEOFF_PURCHASES_FREQUENCY</th>\n",
       "      <th>PURCHASES_INSTALLMENTS_FREQUENCY</th>\n",
       "      <th>CASH_ADVANCE_FREQUENCY</th>\n",
       "      <th>CASH_ADVANCE_TRX</th>\n",
       "      <th>PURCHASES_TRX</th>\n",
       "      <th>CREDIT_LIMIT</th>\n",
       "      <th>PAYMENTS</th>\n",
       "      <th>MINIMUM_PAYMENTS</th>\n",
       "      <th>PRC_FULL_PAYMENT</th>\n",
       "      <th>TENURE</th>\n",
       "      <th>cluster_idx</th>\n",
       "    </tr>\n",
       "  </thead>\n",
       "  <tbody>\n",
       "    <tr>\n",
       "      <th>count</th>\n",
       "      <td>3105.000000</td>\n",
       "      <td>3105.000000</td>\n",
       "      <td>3105.000000</td>\n",
       "      <td>3105.000000</td>\n",
       "      <td>3105.000000</td>\n",
       "      <td>3105.000000</td>\n",
       "      <td>3105.000000</td>\n",
       "      <td>3105.000000</td>\n",
       "      <td>3105.000000</td>\n",
       "      <td>3105.000000</td>\n",
       "      <td>3105.000000</td>\n",
       "      <td>3105.000000</td>\n",
       "      <td>3105.000000</td>\n",
       "      <td>3105.000000</td>\n",
       "      <td>3105.000000</td>\n",
       "      <td>3105.000000</td>\n",
       "      <td>3105.000000</td>\n",
       "      <td>3105.0</td>\n",
       "    </tr>\n",
       "    <tr>\n",
       "      <th>mean</th>\n",
       "      <td>0.118076</td>\n",
       "      <td>0.000221</td>\n",
       "      <td>0.097049</td>\n",
       "      <td>0.044633</td>\n",
       "      <td>0.052469</td>\n",
       "      <td>0.037551</td>\n",
       "      <td>0.000140</td>\n",
       "      <td>0.000032</td>\n",
       "      <td>0.000110</td>\n",
       "      <td>0.000011</td>\n",
       "      <td>0.000183</td>\n",
       "      <td>0.002359</td>\n",
       "      <td>0.938417</td>\n",
       "      <td>0.153943</td>\n",
       "      <td>0.060383</td>\n",
       "      <td>0.000064</td>\n",
       "      <td>0.003226</td>\n",
       "      <td>1.0</td>\n",
       "    </tr>\n",
       "    <tr>\n",
       "      <th>std</th>\n",
       "      <td>0.153221</td>\n",
       "      <td>0.000202</td>\n",
       "      <td>0.081916</td>\n",
       "      <td>0.063885</td>\n",
       "      <td>0.060993</td>\n",
       "      <td>0.081838</td>\n",
       "      <td>0.000172</td>\n",
       "      <td>0.000054</td>\n",
       "      <td>0.000165</td>\n",
       "      <td>0.000030</td>\n",
       "      <td>0.000508</td>\n",
       "      <td>0.002627</td>\n",
       "      <td>0.056878</td>\n",
       "      <td>0.109140</td>\n",
       "      <td>0.051662</td>\n",
       "      <td>0.000134</td>\n",
       "      <td>0.002824</td>\n",
       "      <td>0.0</td>\n",
       "    </tr>\n",
       "    <tr>\n",
       "      <th>min</th>\n",
       "      <td>0.000000</td>\n",
       "      <td>0.000000</td>\n",
       "      <td>0.000000</td>\n",
       "      <td>0.000000</td>\n",
       "      <td>0.000000</td>\n",
       "      <td>0.000000</td>\n",
       "      <td>0.000000</td>\n",
       "      <td>0.000000</td>\n",
       "      <td>0.000000</td>\n",
       "      <td>0.000000</td>\n",
       "      <td>0.000000</td>\n",
       "      <td>0.000000</td>\n",
       "      <td>0.669083</td>\n",
       "      <td>0.000014</td>\n",
       "      <td>0.000009</td>\n",
       "      <td>0.000000</td>\n",
       "      <td>0.000284</td>\n",
       "      <td>1.0</td>\n",
       "    </tr>\n",
       "    <tr>\n",
       "      <th>25%</th>\n",
       "      <td>0.008915</td>\n",
       "      <td>0.000097</td>\n",
       "      <td>0.026110</td>\n",
       "      <td>0.000000</td>\n",
       "      <td>0.000000</td>\n",
       "      <td>0.000000</td>\n",
       "      <td>0.000031</td>\n",
       "      <td>0.000000</td>\n",
       "      <td>0.000000</td>\n",
       "      <td>0.000000</td>\n",
       "      <td>0.000000</td>\n",
       "      <td>0.000451</td>\n",
       "      <td>0.906353</td>\n",
       "      <td>0.076455</td>\n",
       "      <td>0.023446</td>\n",
       "      <td>0.000000</td>\n",
       "      <td>0.001436</td>\n",
       "      <td>1.0</td>\n",
       "    </tr>\n",
       "    <tr>\n",
       "      <th>50%</th>\n",
       "      <td>0.030139</td>\n",
       "      <td>0.000150</td>\n",
       "      <td>0.080830</td>\n",
       "      <td>0.007597</td>\n",
       "      <td>0.028767</td>\n",
       "      <td>0.000000</td>\n",
       "      <td>0.000087</td>\n",
       "      <td>0.000009</td>\n",
       "      <td>0.000051</td>\n",
       "      <td>0.000000</td>\n",
       "      <td>0.000000</td>\n",
       "      <td>0.001581</td>\n",
       "      <td>0.954773</td>\n",
       "      <td>0.126402</td>\n",
       "      <td>0.046267</td>\n",
       "      <td>0.000000</td>\n",
       "      <td>0.002307</td>\n",
       "      <td>1.0</td>\n",
       "    </tr>\n",
       "    <tr>\n",
       "      <th>75%</th>\n",
       "      <td>0.214037</td>\n",
       "      <td>0.000278</td>\n",
       "      <td>0.153020</td>\n",
       "      <td>0.071509</td>\n",
       "      <td>0.090505</td>\n",
       "      <td>0.011793</td>\n",
       "      <td>0.000170</td>\n",
       "      <td>0.000045</td>\n",
       "      <td>0.000143</td>\n",
       "      <td>0.000008</td>\n",
       "      <td>0.000103</td>\n",
       "      <td>0.003385</td>\n",
       "      <td>0.986140</td>\n",
       "      <td>0.201350</td>\n",
       "      <td>0.083460</td>\n",
       "      <td>0.000075</td>\n",
       "      <td>0.003987</td>\n",
       "      <td>1.0</td>\n",
       "    </tr>\n",
       "    <tr>\n",
       "      <th>max</th>\n",
       "      <td>0.610712</td>\n",
       "      <td>0.002230</td>\n",
       "      <td>0.376504</td>\n",
       "      <td>0.285338</td>\n",
       "      <td>0.269440</td>\n",
       "      <td>0.470092</td>\n",
       "      <td>0.001375</td>\n",
       "      <td>0.000537</td>\n",
       "      <td>0.001146</td>\n",
       "      <td>0.000457</td>\n",
       "      <td>0.008046</td>\n",
       "      <td>0.030942</td>\n",
       "      <td>0.999998</td>\n",
       "      <td>0.607346</td>\n",
       "      <td>0.504234</td>\n",
       "      <td>0.002062</td>\n",
       "      <td>0.032994</td>\n",
       "      <td>1.0</td>\n",
       "    </tr>\n",
       "  </tbody>\n",
       "</table>\n",
       "</div>"
      ],
      "text/plain": [
       "           BALANCE  BALANCE_FREQUENCY    PURCHASES  ONEOFF_PURCHASES  \\\n",
       "count  3105.000000        3105.000000  3105.000000       3105.000000   \n",
       "mean      0.118076           0.000221     0.097049          0.044633   \n",
       "std       0.153221           0.000202     0.081916          0.063885   \n",
       "min       0.000000           0.000000     0.000000          0.000000   \n",
       "25%       0.008915           0.000097     0.026110          0.000000   \n",
       "50%       0.030139           0.000150     0.080830          0.007597   \n",
       "75%       0.214037           0.000278     0.153020          0.071509   \n",
       "max       0.610712           0.002230     0.376504          0.285338   \n",
       "\n",
       "       INSTALLMENTS_PURCHASES  CASH_ADVANCE  PURCHASES_FREQUENCY  \\\n",
       "count             3105.000000   3105.000000          3105.000000   \n",
       "mean                 0.052469      0.037551             0.000140   \n",
       "std                  0.060993      0.081838             0.000172   \n",
       "min                  0.000000      0.000000             0.000000   \n",
       "25%                  0.000000      0.000000             0.000031   \n",
       "50%                  0.028767      0.000000             0.000087   \n",
       "75%                  0.090505      0.011793             0.000170   \n",
       "max                  0.269440      0.470092             0.001375   \n",
       "\n",
       "       ONEOFF_PURCHASES_FREQUENCY  PURCHASES_INSTALLMENTS_FREQUENCY  \\\n",
       "count                 3105.000000                       3105.000000   \n",
       "mean                     0.000032                          0.000110   \n",
       "std                      0.000054                          0.000165   \n",
       "min                      0.000000                          0.000000   \n",
       "25%                      0.000000                          0.000000   \n",
       "50%                      0.000009                          0.000051   \n",
       "75%                      0.000045                          0.000143   \n",
       "max                      0.000537                          0.001146   \n",
       "\n",
       "       CASH_ADVANCE_FREQUENCY  CASH_ADVANCE_TRX  PURCHASES_TRX  CREDIT_LIMIT  \\\n",
       "count             3105.000000       3105.000000    3105.000000   3105.000000   \n",
       "mean                 0.000011          0.000183       0.002359      0.938417   \n",
       "std                  0.000030          0.000508       0.002627      0.056878   \n",
       "min                  0.000000          0.000000       0.000000      0.669083   \n",
       "25%                  0.000000          0.000000       0.000451      0.906353   \n",
       "50%                  0.000000          0.000000       0.001581      0.954773   \n",
       "75%                  0.000008          0.000103       0.003385      0.986140   \n",
       "max                  0.000457          0.008046       0.030942      0.999998   \n",
       "\n",
       "          PAYMENTS  MINIMUM_PAYMENTS  PRC_FULL_PAYMENT       TENURE  \\\n",
       "count  3105.000000       3105.000000       3105.000000  3105.000000   \n",
       "mean      0.153943          0.060383          0.000064     0.003226   \n",
       "std       0.109140          0.051662          0.000134     0.002824   \n",
       "min       0.000014          0.000009          0.000000     0.000284   \n",
       "25%       0.076455          0.023446          0.000000     0.001436   \n",
       "50%       0.126402          0.046267          0.000000     0.002307   \n",
       "75%       0.201350          0.083460          0.000075     0.003987   \n",
       "max       0.607346          0.504234          0.002062     0.032994   \n",
       "\n",
       "       cluster_idx  \n",
       "count       3105.0  \n",
       "mean           1.0  \n",
       "std            0.0  \n",
       "min            1.0  \n",
       "25%            1.0  \n",
       "50%            1.0  \n",
       "75%            1.0  \n",
       "max            1.0  "
      ]
     },
     "execution_count": 67,
     "metadata": {},
     "output_type": "execute_result"
    }
   ],
   "source": [
    "cluster1.describe()"
   ]
  },
  {
   "cell_type": "code",
   "execution_count": 68,
   "metadata": {},
   "outputs": [
    {
     "data": {
      "text/html": [
       "<div>\n",
       "<style scoped>\n",
       "    .dataframe tbody tr th:only-of-type {\n",
       "        vertical-align: middle;\n",
       "    }\n",
       "\n",
       "    .dataframe tbody tr th {\n",
       "        vertical-align: top;\n",
       "    }\n",
       "\n",
       "    .dataframe thead th {\n",
       "        text-align: right;\n",
       "    }\n",
       "</style>\n",
       "<table border=\"1\" class=\"dataframe\">\n",
       "  <thead>\n",
       "    <tr style=\"text-align: right;\">\n",
       "      <th></th>\n",
       "      <th>BALANCE</th>\n",
       "      <th>BALANCE_FREQUENCY</th>\n",
       "      <th>PURCHASES</th>\n",
       "      <th>ONEOFF_PURCHASES</th>\n",
       "      <th>INSTALLMENTS_PURCHASES</th>\n",
       "      <th>CASH_ADVANCE</th>\n",
       "      <th>PURCHASES_FREQUENCY</th>\n",
       "      <th>ONEOFF_PURCHASES_FREQUENCY</th>\n",
       "      <th>PURCHASES_INSTALLMENTS_FREQUENCY</th>\n",
       "      <th>CASH_ADVANCE_FREQUENCY</th>\n",
       "      <th>CASH_ADVANCE_TRX</th>\n",
       "      <th>PURCHASES_TRX</th>\n",
       "      <th>CREDIT_LIMIT</th>\n",
       "      <th>PAYMENTS</th>\n",
       "      <th>MINIMUM_PAYMENTS</th>\n",
       "      <th>PRC_FULL_PAYMENT</th>\n",
       "      <th>TENURE</th>\n",
       "      <th>cluster_idx</th>\n",
       "    </tr>\n",
       "  </thead>\n",
       "  <tbody>\n",
       "    <tr>\n",
       "      <th>count</th>\n",
       "      <td>1820.000000</td>\n",
       "      <td>1820.000000</td>\n",
       "      <td>1820.000000</td>\n",
       "      <td>1820.000000</td>\n",
       "      <td>1820.000000</td>\n",
       "      <td>1820.000000</td>\n",
       "      <td>1820.000000</td>\n",
       "      <td>1820.000000</td>\n",
       "      <td>1820.000000</td>\n",
       "      <td>1820.000000</td>\n",
       "      <td>1820.000000</td>\n",
       "      <td>1820.000000</td>\n",
       "      <td>1820.000000</td>\n",
       "      <td>1820.000000</td>\n",
       "      <td>1820.000000</td>\n",
       "      <td>1.820000e+03</td>\n",
       "      <td>1820.000000</td>\n",
       "      <td>1820.0</td>\n",
       "    </tr>\n",
       "    <tr>\n",
       "      <th>mean</th>\n",
       "      <td>0.179186</td>\n",
       "      <td>0.000273</td>\n",
       "      <td>0.405498</td>\n",
       "      <td>0.221577</td>\n",
       "      <td>0.184159</td>\n",
       "      <td>0.030865</td>\n",
       "      <td>0.000232</td>\n",
       "      <td>0.000081</td>\n",
       "      <td>0.000178</td>\n",
       "      <td>0.000011</td>\n",
       "      <td>0.000207</td>\n",
       "      <td>0.006169</td>\n",
       "      <td>0.661432</td>\n",
       "      <td>0.329981</td>\n",
       "      <td>0.088082</td>\n",
       "      <td>8.260092e-05</td>\n",
       "      <td>0.003361</td>\n",
       "      <td>2.0</td>\n",
       "    </tr>\n",
       "    <tr>\n",
       "      <th>std</th>\n",
       "      <td>0.169615</td>\n",
       "      <td>0.000213</td>\n",
       "      <td>0.115524</td>\n",
       "      <td>0.177088</td>\n",
       "      <td>0.151682</td>\n",
       "      <td>0.084397</td>\n",
       "      <td>0.000199</td>\n",
       "      <td>0.000094</td>\n",
       "      <td>0.000198</td>\n",
       "      <td>0.000036</td>\n",
       "      <td>0.000705</td>\n",
       "      <td>0.004591</td>\n",
       "      <td>0.177487</td>\n",
       "      <td>0.155378</td>\n",
       "      <td>0.078263</td>\n",
       "      <td>1.531282e-04</td>\n",
       "      <td>0.002562</td>\n",
       "      <td>0.0</td>\n",
       "    </tr>\n",
       "    <tr>\n",
       "      <th>min</th>\n",
       "      <td>0.000000</td>\n",
       "      <td>0.000000</td>\n",
       "      <td>0.117510</td>\n",
       "      <td>0.000000</td>\n",
       "      <td>0.000000</td>\n",
       "      <td>0.000000</td>\n",
       "      <td>0.000010</td>\n",
       "      <td>0.000000</td>\n",
       "      <td>0.000000</td>\n",
       "      <td>0.000000</td>\n",
       "      <td>0.000000</td>\n",
       "      <td>0.000000</td>\n",
       "      <td>0.068939</td>\n",
       "      <td>0.005055</td>\n",
       "      <td>0.000032</td>\n",
       "      <td>0.000000e+00</td>\n",
       "      <td>0.000144</td>\n",
       "      <td>2.0</td>\n",
       "    </tr>\n",
       "    <tr>\n",
       "      <th>25%</th>\n",
       "      <td>0.040776</td>\n",
       "      <td>0.000113</td>\n",
       "      <td>0.315256</td>\n",
       "      <td>0.027212</td>\n",
       "      <td>0.035921</td>\n",
       "      <td>0.000000</td>\n",
       "      <td>0.000092</td>\n",
       "      <td>0.000015</td>\n",
       "      <td>0.000035</td>\n",
       "      <td>0.000000</td>\n",
       "      <td>0.000000</td>\n",
       "      <td>0.003270</td>\n",
       "      <td>0.552668</td>\n",
       "      <td>0.220062</td>\n",
       "      <td>0.033014</td>\n",
       "      <td>0.000000e+00</td>\n",
       "      <td>0.001423</td>\n",
       "      <td>2.0</td>\n",
       "    </tr>\n",
       "    <tr>\n",
       "      <th>50%</th>\n",
       "      <td>0.097297</td>\n",
       "      <td>0.000203</td>\n",
       "      <td>0.401353</td>\n",
       "      <td>0.225132</td>\n",
       "      <td>0.174498</td>\n",
       "      <td>0.000000</td>\n",
       "      <td>0.000162</td>\n",
       "      <td>0.000059</td>\n",
       "      <td>0.000113</td>\n",
       "      <td>0.000000</td>\n",
       "      <td>0.000000</td>\n",
       "      <td>0.005231</td>\n",
       "      <td>0.690007</td>\n",
       "      <td>0.320748</td>\n",
       "      <td>0.062837</td>\n",
       "      <td>5.690983e-07</td>\n",
       "      <td>0.002599</td>\n",
       "      <td>2.0</td>\n",
       "    </tr>\n",
       "    <tr>\n",
       "      <th>75%</th>\n",
       "      <td>0.292787</td>\n",
       "      <td>0.000369</td>\n",
       "      <td>0.492624</td>\n",
       "      <td>0.367279</td>\n",
       "      <td>0.294078</td>\n",
       "      <td>0.000000</td>\n",
       "      <td>0.000306</td>\n",
       "      <td>0.000112</td>\n",
       "      <td>0.000251</td>\n",
       "      <td>0.000000</td>\n",
       "      <td>0.000000</td>\n",
       "      <td>0.008041</td>\n",
       "      <td>0.804181</td>\n",
       "      <td>0.444348</td>\n",
       "      <td>0.116586</td>\n",
       "      <td>9.767670e-05</td>\n",
       "      <td>0.004502</td>\n",
       "      <td>2.0</td>\n",
       "    </tr>\n",
       "    <tr>\n",
       "      <th>max</th>\n",
       "      <td>0.633314</td>\n",
       "      <td>0.001297</td>\n",
       "      <td>0.705477</td>\n",
       "      <td>0.637728</td>\n",
       "      <td>0.584346</td>\n",
       "      <td>0.619700</td>\n",
       "      <td>0.001008</td>\n",
       "      <td>0.000860</td>\n",
       "      <td>0.000901</td>\n",
       "      <td>0.000503</td>\n",
       "      <td>0.008855</td>\n",
       "      <td>0.063148</td>\n",
       "      <td>0.934192</td>\n",
       "      <td>0.883340</td>\n",
       "      <td>0.450248</td>\n",
       "      <td>1.075261e-03</td>\n",
       "      <td>0.020535</td>\n",
       "      <td>2.0</td>\n",
       "    </tr>\n",
       "  </tbody>\n",
       "</table>\n",
       "</div>"
      ],
      "text/plain": [
       "           BALANCE  BALANCE_FREQUENCY    PURCHASES  ONEOFF_PURCHASES  \\\n",
       "count  1820.000000        1820.000000  1820.000000       1820.000000   \n",
       "mean      0.179186           0.000273     0.405498          0.221577   \n",
       "std       0.169615           0.000213     0.115524          0.177088   \n",
       "min       0.000000           0.000000     0.117510          0.000000   \n",
       "25%       0.040776           0.000113     0.315256          0.027212   \n",
       "50%       0.097297           0.000203     0.401353          0.225132   \n",
       "75%       0.292787           0.000369     0.492624          0.367279   \n",
       "max       0.633314           0.001297     0.705477          0.637728   \n",
       "\n",
       "       INSTALLMENTS_PURCHASES  CASH_ADVANCE  PURCHASES_FREQUENCY  \\\n",
       "count             1820.000000   1820.000000          1820.000000   \n",
       "mean                 0.184159      0.030865             0.000232   \n",
       "std                  0.151682      0.084397             0.000199   \n",
       "min                  0.000000      0.000000             0.000010   \n",
       "25%                  0.035921      0.000000             0.000092   \n",
       "50%                  0.174498      0.000000             0.000162   \n",
       "75%                  0.294078      0.000000             0.000306   \n",
       "max                  0.584346      0.619700             0.001008   \n",
       "\n",
       "       ONEOFF_PURCHASES_FREQUENCY  PURCHASES_INSTALLMENTS_FREQUENCY  \\\n",
       "count                 1820.000000                       1820.000000   \n",
       "mean                     0.000081                          0.000178   \n",
       "std                      0.000094                          0.000198   \n",
       "min                      0.000000                          0.000000   \n",
       "25%                      0.000015                          0.000035   \n",
       "50%                      0.000059                          0.000113   \n",
       "75%                      0.000112                          0.000251   \n",
       "max                      0.000860                          0.000901   \n",
       "\n",
       "       CASH_ADVANCE_FREQUENCY  CASH_ADVANCE_TRX  PURCHASES_TRX  CREDIT_LIMIT  \\\n",
       "count             1820.000000       1820.000000    1820.000000   1820.000000   \n",
       "mean                 0.000011          0.000207       0.006169      0.661432   \n",
       "std                  0.000036          0.000705       0.004591      0.177487   \n",
       "min                  0.000000          0.000000       0.000000      0.068939   \n",
       "25%                  0.000000          0.000000       0.003270      0.552668   \n",
       "50%                  0.000000          0.000000       0.005231      0.690007   \n",
       "75%                  0.000000          0.000000       0.008041      0.804181   \n",
       "max                  0.000503          0.008855       0.063148      0.934192   \n",
       "\n",
       "          PAYMENTS  MINIMUM_PAYMENTS  PRC_FULL_PAYMENT       TENURE  \\\n",
       "count  1820.000000       1820.000000      1.820000e+03  1820.000000   \n",
       "mean      0.329981          0.088082      8.260092e-05     0.003361   \n",
       "std       0.155378          0.078263      1.531282e-04     0.002562   \n",
       "min       0.005055          0.000032      0.000000e+00     0.000144   \n",
       "25%       0.220062          0.033014      0.000000e+00     0.001423   \n",
       "50%       0.320748          0.062837      5.690983e-07     0.002599   \n",
       "75%       0.444348          0.116586      9.767670e-05     0.004502   \n",
       "max       0.883340          0.450248      1.075261e-03     0.020535   \n",
       "\n",
       "       cluster_idx  \n",
       "count       1820.0  \n",
       "mean           2.0  \n",
       "std            0.0  \n",
       "min            2.0  \n",
       "25%            2.0  \n",
       "50%            2.0  \n",
       "75%            2.0  \n",
       "max            2.0  "
      ]
     },
     "execution_count": 68,
     "metadata": {},
     "output_type": "execute_result"
    }
   ],
   "source": [
    "cluster2.describe()"
   ]
  },
  {
   "cell_type": "markdown",
   "metadata": {},
   "source": [
    "# Observation"
   ]
  },
  {
   "cell_type": "markdown",
   "metadata": {},
   "source": [
    "The credit card users could be grouped into three. The first group(cluster2) shows relatively high purchase value than other groups. The other group (cluster0) shows high cash_advance value. The cluster 1 is somewhere between the two groups ans presents high credit limit than others.\n",
    "\n",
    "At least two different sign up incentive, one for cash advance heavy and another for purchase heavy customers, should be planned to take into account these three types of customers."
   ]
  },
  {
   "cell_type": "code",
   "execution_count": null,
   "metadata": {},
   "outputs": [],
   "source": []
  }
 ],
 "metadata": {
  "kernelspec": {
   "display_name": "TF_env",
   "language": "python",
   "name": "tf_env"
  },
  "language_info": {
   "codemirror_mode": {
    "name": "ipython",
    "version": 3
   },
   "file_extension": ".py",
   "mimetype": "text/x-python",
   "name": "python",
   "nbconvert_exporter": "python",
   "pygments_lexer": "ipython3",
   "version": "3.7.6"
  }
 },
 "nbformat": 4,
 "nbformat_minor": 4
}
